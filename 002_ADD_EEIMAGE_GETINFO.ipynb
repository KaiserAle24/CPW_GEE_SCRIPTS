{
 "cells": [
  {
   "cell_type": "code",
   "execution_count": null,
   "id": "eb53b1a0",
   "metadata": {},
   "outputs": [],
   "source": [
    "import ee\n",
    "import geemap"
   ]
  },
  {
   "cell_type": "code",
   "execution_count": null,
   "id": "bbabac65",
   "metadata": {},
   "outputs": [],
   "source": [
    "Map = geemap.Map(center=(20, -99), zoom=7)\n",
    "Map"
   ]
  },
  {
   "cell_type": "code",
   "execution_count": null,
   "id": "0fa68705",
   "metadata": {},
   "outputs": [],
   "source": [
    "landsat = ee.Image('LANDSAT/LC08/C01/T1_TOA/LC08_026047_20210203')\n",
    "\n",
    "parametros = {'bands': ['B4',  'B3',  'B2'], 'min': 0.02, 'max': 0.4, 'gamma': 1.3}\n",
    "\n",
    "Map.addLayer(landsat, parametros, \"Landsat-8\")\n"
   ]
  },
  {
   "cell_type": "code",
   "execution_count": null,
   "id": "b9ac7cd5",
   "metadata": {},
   "outputs": [],
   "source": [
    "landsat.propertyNames().getInfo()"
   ]
  },
  {
   "cell_type": "code",
   "execution_count": null,
   "id": "bac6ca8c",
   "metadata": {},
   "outputs": [],
   "source": [
    "landsat.get('CLOUD_COVER').getInfo ()"
   ]
  },
  {
   "cell_type": "code",
   "execution_count": null,
   "id": "7a86a9f5",
   "metadata": {},
   "outputs": [],
   "source": [
    "# The number of milliseconds since 1970-01-01T00:00:00Z.\n",
    "landsat.get('system:time_start').getInfo()"
   ]
  },
  {
   "cell_type": "code",
   "execution_count": null,
   "id": "8d6f7b0c",
   "metadata": {},
   "outputs": [],
   "source": [
    "ee.Date(landsat.get('system:time_start')).format('YYYY-MM-dd').getInfo()"
   ]
  },
  {
   "cell_type": "code",
   "execution_count": null,
   "id": "0311c5c3",
   "metadata": {},
   "outputs": [],
   "source": [
    "landsat_props = geemap.image_props(landsat)\n",
    "landsat_props.getInfo()"
   ]
  },
  {
   "cell_type": "code",
   "execution_count": null,
   "id": "102c63bc",
   "metadata": {},
   "outputs": [],
   "source": [
    "landsat_props.get('NOMINAL_SCALE').getInfo()"
   ]
  },
  {
   "cell_type": "code",
   "execution_count": null,
   "id": "8fa56a46",
   "metadata": {},
   "outputs": [],
   "source": []
  }
 ],
 "metadata": {
  "hide_input": false,
  "kernelspec": {
   "display_name": "Python 3 (ipykernel)",
   "language": "python",
   "name": "python3"
  },
  "language_info": {
   "codemirror_mode": {
    "name": "ipython",
    "version": 3
   },
   "file_extension": ".py",
   "mimetype": "text/x-python",
   "name": "python",
   "nbconvert_exporter": "python",
   "pygments_lexer": "ipython3",
   "version": "3.8.15"
  },
  "toc": {
   "base_numbering": 1,
   "nav_menu": {},
   "number_sections": true,
   "sideBar": true,
   "skip_h1_title": false,
   "title_cell": "Table of Contents",
   "title_sidebar": "Contents",
   "toc_cell": false,
   "toc_position": {},
   "toc_section_display": true,
   "toc_window_display": false
  }
 },
 "nbformat": 4,
 "nbformat_minor": 5
}
