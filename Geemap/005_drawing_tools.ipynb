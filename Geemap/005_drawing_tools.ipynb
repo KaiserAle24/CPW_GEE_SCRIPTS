{
 "cells": [
  {
   "cell_type": "markdown",
   "id": "4d4e97ae",
   "metadata": {},
   "source": [
    "<a href=\"https://githubtocolab.com/giswqs/geemap/blob/master/examples/notebooks/05_drawing_tools.ipynb\" target=\"_parent\"><img src=\"https://colab.research.google.com/assets/colab-badge.svg\" alt=\"Open in Colab\"/></a>\n",
    "\n",
    "Uncomment the following line to install [geemap](https://geemap.org) if needed."
   ]
  },
  {
   "cell_type": "code",
   "execution_count": null,
   "id": "82071dae",
   "metadata": {},
   "outputs": [],
   "source": [
    "# !pip install geemap"
   ]
  },
  {
   "cell_type": "code",
   "execution_count": null,
   "id": "bc72fc29",
   "metadata": {},
   "outputs": [],
   "source": [
    "import ee\n",
    "import geemap"
   ]
  },
  {
   "cell_type": "code",
   "execution_count": null,
   "id": "5b6b6231",
   "metadata": {},
   "outputs": [],
   "source": [
    "geemap.show_youtube('N7rK2aV1R4c')"
   ]
  },
  {
   "cell_type": "code",
   "execution_count": null,
   "id": "d6437bb2",
   "metadata": {},
   "outputs": [],
   "source": [
    "Map = geemap.Map()\n",
    "Map"
   ]
  },
  {
   "cell_type": "code",
   "execution_count": null,
   "id": "7775ea16",
   "metadata": {},
   "outputs": [],
   "source": [
    "# Add Earth Engine dataset\n",
    "image = ee.Image('USGS/SRTMGL1_003')\n",
    "\n",
    "# Set visualization parameters.\n",
    "vis_params = {\n",
    "    'min': 0,\n",
    "    'max': 4000,\n",
    "    'palette': ['006633', 'E5FFCC', '662A00', 'D8D8D8', 'F5F5F5'],\n",
    "}\n",
    "\n",
    "# Add Earth Engine DEM to map\n",
    "Map.addLayer(image, vis_params, 'SRTM DEM')\n",
    "\n",
    "states = ee.FeatureCollection(\"users/Alejandro_AmayaH/ESTATAL_NAL\")\n",
    "Map.addLayer(states, {}, 'MX States')"
   ]
  },
  {
   "cell_type": "code",
   "execution_count": null,
   "id": "a55e4e4b",
   "metadata": {},
   "outputs": [],
   "source": [
    "Map.draw_features"
   ]
  },
  {
   "cell_type": "code",
   "execution_count": null,
   "id": "7b4f8b22",
   "metadata": {},
   "outputs": [],
   "source": [
    "Map.draw_last_feature"
   ]
  },
  {
   "cell_type": "code",
   "execution_count": null,
   "id": "6c23f85c",
   "metadata": {},
   "outputs": [],
   "source": [
    "roi = ee.FeatureCollection(Map.draw_features)\n",
    "selected_states = states.filterBounds(roi)\n",
    "Map.addLayer(selected_states, {}, \"Selected states\")"
   ]
  },
  {
   "cell_type": "code",
   "execution_count": null,
   "id": "e1260b25",
   "metadata": {},
   "outputs": [],
   "source": [
    "clipped_image = image.clip(selected_states)\n",
    "Map.addLayer(clipped_image, vis_params, 'Clipped image')"
   ]
  },
  {
   "cell_type": "code",
   "execution_count": null,
   "id": "2a926f8c",
   "metadata": {},
   "outputs": [],
   "source": []
  }
 ],
 "metadata": {
  "kernelspec": {
   "display_name": "Python 3 (ipykernel)",
   "language": "python",
   "name": "python3"
  },
  "language_info": {
   "codemirror_mode": {
    "name": "ipython",
    "version": 3
   },
   "file_extension": ".py",
   "mimetype": "text/x-python",
   "name": "python",
   "nbconvert_exporter": "python",
   "pygments_lexer": "ipython3",
   "version": "3.10.10"
  }
 },
 "nbformat": 4,
 "nbformat_minor": 5
}
