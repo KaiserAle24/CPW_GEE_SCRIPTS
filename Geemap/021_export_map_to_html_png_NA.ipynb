{
 "cells": [
  {
   "cell_type": "markdown",
   "id": "69fb96a7",
   "metadata": {},
   "source": [
    "<a href=\"https://githubtocolab.com/giswqs/geemap/blob/master/examples/notebooks/21_export_map_to_html_png.ipynb\" target=\"_parent\"><img src=\"https://colab.research.google.com/assets/colab-badge.svg\" alt=\"Open in Colab\"/></a>\n",
    "\n",
    "Uncomment the following line to install [geemap](https://geemap.org) if needed."
   ]
  },
  {
   "cell_type": "code",
   "execution_count": null,
   "id": "0c657ba0",
   "metadata": {},
   "outputs": [],
   "source": [
    "# !pip install geemap"
   ]
  },
  {
   "cell_type": "markdown",
   "id": "34e64de7",
   "metadata": {},
   "source": [
    "# Google Earth Engine Python Tutorials\n",
    "\n",
    "* GitHub: https://github.com/giswqs/geemap\n",
    "* Notebook examples: https://github.com/giswqs/geemap/blob/master/examples/README.md#tutorials\n",
    "* Video tutorials: https://www.youtube.com/playlist?list=PLAxJ4-o7ZoPccOFv1dCwvGI6TYnirRTg3\n",
    "\n",
    "\n",
    "**Tutorial 21  - How to export Earth Engine maps as HTML and images**"
   ]
  },
  {
   "cell_type": "markdown",
   "id": "d6e7fa47",
   "metadata": {},
   "source": [
    "## Import libraries"
   ]
  },
  {
   "cell_type": "code",
   "execution_count": 1,
   "id": "ff49987a",
   "metadata": {},
   "outputs": [],
   "source": [
    "import ee\n",
    "import geemap"
   ]
  },
  {
   "cell_type": "markdown",
   "id": "53185556",
   "metadata": {},
   "source": [
    "## Video tutorial on YouTube"
   ]
  },
  {
   "cell_type": "code",
   "execution_count": null,
   "id": "82c99446",
   "metadata": {},
   "outputs": [],
   "source": [
    "geemap.show_youtube('h0pz3S6Tvx0')"
   ]
  },
  {
   "cell_type": "markdown",
   "id": "0525b314",
   "metadata": {},
   "source": [
    "## Update the geemap package\n",
    "\n",
    "If you run into errors with this notebook, please uncomment the line below to update the [geemap](https://github.com/giswqs/geemap#installation) package to the latest version from GitHub. \n",
    "Restart the Kernel (Menu -> Kernel -> Restart) to take effect."
   ]
  },
  {
   "cell_type": "code",
   "execution_count": null,
   "id": "98061d7b",
   "metadata": {},
   "outputs": [],
   "source": [
    "# geemap.update_package()"
   ]
  },
  {
   "cell_type": "markdown",
   "id": "63bee70f",
   "metadata": {},
   "source": [
    "## Create an interactive map"
   ]
  },
  {
   "cell_type": "code",
   "execution_count": 2,
   "id": "eaa1fe01",
   "metadata": {},
   "outputs": [
    {
     "data": {
      "application/vnd.jupyter.widget-view+json": {
       "model_id": "c3c2ab82fc5a49448d12e4fb91c959c7",
       "version_major": 2,
       "version_minor": 0
      },
      "text/plain": [
       "Map(center=[20, 0], controls=(WidgetControl(options=['position', 'transparent_bg'], widget=HBox(children=(Togg…"
      ]
     },
     "metadata": {},
     "output_type": "display_data"
    }
   ],
   "source": [
    "Map = geemap.Map(toolbar_ctrl=True, layer_ctrl=True)\n",
    "Map"
   ]
  },
  {
   "cell_type": "code",
   "execution_count": 3,
   "id": "a1720d50",
   "metadata": {},
   "outputs": [],
   "source": [
    "# Add Earth Engine dataset\n",
    "dem = ee.Image('USGS/SRTMGL1_003')\n",
    "landcover = ee.Image(\"ESA/GLOBCOVER_L4_200901_200912_V2_3\").select('landcover')\n",
    "landsat7 = ee.Image('LANDSAT/LE7_TOA_5YEAR/1999_2003')\n",
    "states = ee.FeatureCollection(\"users/Alejandro_AmayaH/ESTATAL_NAL\")\n",
    "\n",
    "# Set visualization parameters.\n",
    "vis_params = {\n",
    "    'min': 0,\n",
    "    'max': 4000,\n",
    "    'palette': ['006633', 'E5FFCC', '662A00', 'D8D8D8', 'F5F5F5'],\n",
    "}\n",
    "\n",
    "# Add Earth Engine layers to Map\n",
    "Map.addLayer(dem, vis_params, 'SRTM DEM', True, 0.5)\n",
    "Map.addLayer(landcover, {}, 'Land cover')\n",
    "Map.addLayer(\n",
    "    landsat7,\n",
    "    {'bands': ['B4', 'B3', 'B2'], 'min': 20, 'max': 200, 'gamma': 1.5},\n",
    "    'Landsat 7',\n",
    ")\n",
    "Map.addLayer(states, {}, \"MX States\")"
   ]
  },
  {
   "cell_type": "markdown",
   "id": "b201c846",
   "metadata": {},
   "source": [
    "## Exporting maps as HTML\n",
    "\n",
    "You can either click the camera icon on toolbar to export maps or use the following script."
   ]
  },
  {
   "cell_type": "code",
   "execution_count": 4,
   "id": "6e858319",
   "metadata": {},
   "outputs": [],
   "source": [
    "import os"
   ]
  },
  {
   "cell_type": "code",
   "execution_count": 5,
   "id": "4146b14c",
   "metadata": {},
   "outputs": [],
   "source": [
    "download_dir = os.path.join(os.path.expanduser('~'), 'Downloads')\n",
    "if not os.path.exists(download_dir):\n",
    "    os.makedirs(download_dir)\n",
    "html_file = os.path.join(download_dir, 'my_map.html')"
   ]
  },
  {
   "cell_type": "code",
   "execution_count": 6,
   "id": "f7fe5d0c",
   "metadata": {},
   "outputs": [],
   "source": [
    "Map.to_html(filename=html_file, title='My Map', width='100%', height='880px')"
   ]
  },
  {
   "cell_type": "markdown",
   "id": "94408791",
   "metadata": {},
   "source": [
    "## Exporting maps as PNG/JPG\n",
    "\n",
    "Make sure you click the fullscreen button on the map to maximum the map."
   ]
  },
  {
   "cell_type": "code",
   "execution_count": 7,
   "id": "084f8900",
   "metadata": {},
   "outputs": [],
   "source": [
    "png_file = os.path.join(download_dir, 'my_map.png')"
   ]
  },
  {
   "cell_type": "code",
   "execution_count": 8,
   "id": "98595b69",
   "metadata": {},
   "outputs": [],
   "source": [
    "Map.to_image(filename=png_file, monitor=1)"
   ]
  },
  {
   "cell_type": "code",
   "execution_count": 9,
   "id": "e4f7689b",
   "metadata": {},
   "outputs": [],
   "source": [
    "jpg_file = os.path.join(download_dir, 'my_map.jpg')"
   ]
  },
  {
   "cell_type": "code",
   "execution_count": 10,
   "id": "827c86d1",
   "metadata": {},
   "outputs": [],
   "source": [
    "Map.to_image(filename=jpg_file, monitor=1)"
   ]
  },
  {
   "cell_type": "code",
   "execution_count": null,
   "id": "9df3797e",
   "metadata": {},
   "outputs": [],
   "source": []
  }
 ],
 "metadata": {
  "kernelspec": {
   "display_name": "Python 3 (ipykernel)",
   "language": "python",
   "name": "python3"
  },
  "language_info": {
   "codemirror_mode": {
    "name": "ipython",
    "version": 3
   },
   "file_extension": ".py",
   "mimetype": "text/x-python",
   "name": "python",
   "nbconvert_exporter": "python",
   "pygments_lexer": "ipython3",
   "version": "3.10.10"
  }
 },
 "nbformat": 4,
 "nbformat_minor": 5
}
