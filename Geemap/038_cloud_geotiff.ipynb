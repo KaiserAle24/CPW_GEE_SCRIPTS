{
 "cells": [
  {
   "cell_type": "markdown",
   "id": "a01aade4",
   "metadata": {},
   "source": [
    "<a href=\"https://githubtocolab.com/giswqs/geemap/blob/master/examples/notebooks/38_cloud_geotiff.ipynb\" target=\"_parent\"><img src=\"https://colab.research.google.com/assets/colab-badge.svg\" alt=\"Open in Colab\"/></a>\n",
    "\n",
    "Uncomment the following line to install [geemap](https://geemap.org) if needed."
   ]
  },
  {
   "cell_type": "code",
   "execution_count": null,
   "id": "a141c3d5",
   "metadata": {},
   "outputs": [],
   "source": [
    "# !pip install geemap"
   ]
  },
  {
   "cell_type": "markdown",
   "id": "fc56c153",
   "metadata": {},
   "source": [
    "# How to use Cloud Optimized GeoTIFF with Earth Engine \n",
    "\n",
    "A Cloud Optimized GeoTIFF (COG) is a regular GeoTIFF file, aimed at being hosted on a HTTP file server, with an internal organization that enables more efficient workflows on the cloud. It does this by leveraging the ability of clients issuing HTTP GET range requests to ask for just the parts of a file they need. \n",
    "\n",
    "More information about COG can be found at <https://www.cogeo.org/in-depth.html>\n",
    "\n",
    "Some publicly available Cloud Optimized GeoTIFFs:\n",
    "\n",
    "* https://stacindex.org/\n",
    "* https://cloud.google.com/storage/docs/public-datasets/landsat"
   ]
  },
  {
   "cell_type": "markdown",
   "id": "8c35b351",
   "metadata": {},
   "source": [
    "## Loading a Cloud Optimized GeoTIFF as an ee.Image\n",
    "\n",
    "Note that only Cloud Optimized GeoTIFF hosted on Google Cloud Storage is supported. Other cloud storage providers (e.g., AWS) are not supported.\n",
    "\n",
    "In this example, we are going to use the [Planet Disaster Data](https://stacindex.org/catalogs/planet-labs-stac-catalog#/hQQtdnqXybvrLypHS1EX8TjGtfuU84GRBb)."
   ]
  },
  {
   "cell_type": "code",
   "execution_count": 1,
   "id": "40f50ab3",
   "metadata": {},
   "outputs": [],
   "source": [
    "import ee\n",
    "import geemap"
   ]
  },
  {
   "cell_type": "code",
   "execution_count": 2,
   "id": "1cdcc8f5",
   "metadata": {},
   "outputs": [
    {
     "data": {
      "application/vnd.jupyter.widget-view+json": {
       "model_id": "295d7a263b5d47a998a27a524a8d7eb1",
       "version_major": 2,
       "version_minor": 0
      },
      "text/plain": [
       "Map(center=[20, 0], controls=(WidgetControl(options=['position', 'transparent_bg'], widget=HBox(children=(Togg…"
      ]
     },
     "metadata": {},
     "output_type": "display_data"
    }
   ],
   "source": [
    "Map = geemap.Map()\n",
    "Map"
   ]
  },
  {
   "cell_type": "code",
   "execution_count": 3,
   "id": "725a27c8",
   "metadata": {},
   "outputs": [],
   "source": [
    "URL = 'https://storage.googleapis.com/pdd-stac/disasters/hurricane-harvey/0831/20170831_172754_101c_3B_AnalyticMS.tif'\n",
    "# URL = 'gs://pdd-stac/disasters/hurricane-harvey/0831/20170831_172754_101c_3B_AnalyticMS.tif'"
   ]
  },
  {
   "cell_type": "code",
   "execution_count": 4,
   "id": "1e9e84d3",
   "metadata": {},
   "outputs": [],
   "source": [
    "image = geemap.load_GeoTIFF(URL)"
   ]
  },
  {
   "cell_type": "code",
   "execution_count": 5,
   "id": "e0f626d1",
   "metadata": {},
   "outputs": [],
   "source": [
    "vis = {\"bands\": [\"B3\", \"B2\", \"B1\"], \"min\": 3000, \"max\": 13500}\n",
    "\n",
    "Map.addLayer(image, vis, 'Cloud Image')\n",
    "Map.centerObject(image.geometry(), 12)"
   ]
  },
  {
   "cell_type": "markdown",
   "id": "bdccbe65",
   "metadata": {},
   "source": [
    "## Loading a list of Cloud Optimized GeoTIFFs as an ee.ImageCollection\n",
    "\n",
    "In this example, we are going to use the Landsat data hosted on Google Cloud. \n",
    "\n",
    "https://cloud.google.com/storage/docs/public-datasets/landsat\n",
    "\n",
    "https://console.cloud.google.com/storage/browser/gcp-public-data-landsat/LC08/01/044/034/LC08_L1TP_044034_20131228_20170307_01_T1"
   ]
  },
  {
   "cell_type": "code",
   "execution_count": 6,
   "id": "4e4c26ac",
   "metadata": {},
   "outputs": [
    {
     "data": {
      "application/vnd.jupyter.widget-view+json": {
       "model_id": "5ba7c02ab70e415dac2495d5c1ccd1c8",
       "version_major": 2,
       "version_minor": 0
      },
      "text/plain": [
       "Map(center=[20, 0], controls=(WidgetControl(options=['position', 'transparent_bg'], widget=HBox(children=(Togg…"
      ]
     },
     "metadata": {},
     "output_type": "display_data"
    }
   ],
   "source": [
    "Map = geemap.Map()\n",
    "Map"
   ]
  },
  {
   "cell_type": "code",
   "execution_count": 7,
   "id": "a970b462",
   "metadata": {},
   "outputs": [],
   "source": [
    "B3 = 'gs://gcp-public-data-landsat/LC08/01/044/034/LC08_L1TP_044034_20131228_20170307_01_T1/LC08_L1TP_044034_20131228_20170307_01_T1_B3.TIF'\n",
    "B4 = 'gs://gcp-public-data-landsat/LC08/01/044/034/LC08_L1TP_044034_20131228_20170307_01_T1/LC08_L1TP_044034_20131228_20170307_01_T1_B4.TIF'\n",
    "B5 = 'gs://gcp-public-data-landsat/LC08/01/044/034/LC08_L1TP_044034_20131228_20170307_01_T1/LC08_L1TP_044034_20131228_20170307_01_T1_B5.TIF'"
   ]
  },
  {
   "cell_type": "code",
   "execution_count": 8,
   "id": "0cd37e94",
   "metadata": {},
   "outputs": [],
   "source": [
    "URLs = [B3, B4, B5]"
   ]
  },
  {
   "cell_type": "code",
   "execution_count": 9,
   "id": "63b2809d",
   "metadata": {},
   "outputs": [],
   "source": [
    "collection = geemap.load_GeoTIFFs(URLs)"
   ]
  },
  {
   "cell_type": "code",
   "execution_count": 10,
   "id": "7190dc4d",
   "metadata": {},
   "outputs": [],
   "source": [
    "image = collection.toBands().rename(['Green', 'Red', 'NIR']).selfMask()"
   ]
  },
  {
   "cell_type": "code",
   "execution_count": 11,
   "id": "4790b737",
   "metadata": {},
   "outputs": [],
   "source": [
    "vis = {'bands': ['NIR', 'Red', 'Green'], 'min': 100, 'max': 12000, 'gamma': 0.8}\n",
    "\n",
    "Map.addLayer(image, vis, 'Image')\n",
    "Map.centerObject(image.geometry(), 8)"
   ]
  },
  {
   "cell_type": "code",
   "execution_count": 12,
   "id": "eee23255",
   "metadata": {},
   "outputs": [],
   "source": [
    "ndvi = image.normalizedDifference(['NIR', 'Red'])\n",
    "ndvi_vis = {'min': 0, 'max': 1, 'palette': ['blue', 'green']}\n",
    "Map.addLayer(ndvi, {}, 'NDVI')"
   ]
  },
  {
   "cell_type": "code",
   "execution_count": null,
   "id": "99b02420",
   "metadata": {},
   "outputs": [],
   "source": []
  }
 ],
 "metadata": {
  "kernelspec": {
   "display_name": "Python 3 (ipykernel)",
   "language": "python",
   "name": "python3"
  },
  "language_info": {
   "codemirror_mode": {
    "name": "ipython",
    "version": 3
   },
   "file_extension": ".py",
   "mimetype": "text/x-python",
   "name": "python",
   "nbconvert_exporter": "python",
   "pygments_lexer": "ipython3",
   "version": "3.10.10"
  }
 },
 "nbformat": 4,
 "nbformat_minor": 5
}
