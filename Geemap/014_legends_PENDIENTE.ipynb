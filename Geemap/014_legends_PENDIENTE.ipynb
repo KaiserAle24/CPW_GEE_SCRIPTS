{
 "cells": [
  {
   "cell_type": "markdown",
   "id": "22d338ed",
   "metadata": {},
   "source": [
    "<a href=\"https://githubtocolab.com/giswqs/geemap/blob/master/examples/notebooks/14_legends.ipynb\" target=\"_parent\"><img src=\"https://colab.research.google.com/assets/colab-badge.svg\" alt=\"Open in Colab\"/></a>\n",
    "\n",
    "Uncomment the following line to install [geemap](https://geemap.org) if needed."
   ]
  },
  {
   "cell_type": "code",
   "execution_count": null,
   "id": "5f0fcd79",
   "metadata": {},
   "outputs": [],
   "source": [
    "# !pip install geemap"
   ]
  },
  {
   "cell_type": "code",
   "execution_count": null,
   "id": "22bd5c9a",
   "metadata": {},
   "outputs": [],
   "source": [
    "import ee\n",
    "import geemap"
   ]
  },
  {
   "cell_type": "markdown",
   "id": "9ae0267e",
   "metadata": {},
   "source": [
    "## Add builtin legends from geemap Python package\n",
    "\n",
    "https://github.com/giswqs/geemap/blob/master/geemap/legends.py\n",
    "\n",
    "### Available builtin legends:"
   ]
  },
  {
   "cell_type": "code",
   "execution_count": null,
   "id": "771e246a",
   "metadata": {},
   "outputs": [],
   "source": [
    "legends = geemap.builtin_legends\n",
    "for legend in legends:\n",
    "    print(legend)"
   ]
  },
  {
   "cell_type": "markdown",
   "id": "aa76b296",
   "metadata": {},
   "source": [
    "### Available Land Cover Datasets in Earth Engine\n",
    "\n",
    "https://developers.google.com/earth-engine/datasets/tags/landcover"
   ]
  },
  {
   "cell_type": "markdown",
   "id": "1cca860b",
   "metadata": {},
   "source": [
    "### MODIS Land Cover Type Yearly Global 500m\n",
    "\n",
    "https://developers.google.com/earth-engine/datasets/catalog/MODIS_051_MCD12Q1"
   ]
  },
  {
   "cell_type": "code",
   "execution_count": null,
   "id": "fa7147fc",
   "metadata": {},
   "outputs": [],
   "source": [
    "Map = geemap.Map()\n",
    "Map.add_basemap('HYBRID')\n",
    "\n",
    "landcover = ee.Image('MODIS/051/MCD12Q1/2013_01_01').select('Land_Cover_Type_1')\n",
    "\n",
    "Map.setCenter(6.746, 46.529, 2)\n",
    "Map.addLayer(landcover, {}, 'MODIS Land Cover')\n",
    "Map.add_legend(builtin_legend='MODIS/051/MCD12Q1')\n",
    "\n",
    "Map"
   ]
  },
  {
   "cell_type": "markdown",
   "id": "85b09948",
   "metadata": {},
   "source": [
    "## Add customized legends for Earth Engine data\n",
    "\n",
    "There are three ways you can add customized legends for Earth Engine data\n",
    "\n",
    "1. Define legend keys and colors\n",
    "2. Define legend dictionary\n",
    "3. Convert Earth Engine class table to legend dictionary\n",
    "\n",
    "### Define legend keys and colors"
   ]
  },
  {
   "cell_type": "code",
   "execution_count": null,
   "id": "408191a7",
   "metadata": {},
   "outputs": [],
   "source": [
    "Map = geemap.Map()\n",
    "\n",
    "legend_key = ['Agricola', 'Pastizal', 'Vegetacion', 'Bosque', 'Zona Urbana', 'Cuerpo de Agua']\n",
    "# colorS can be defined using either hex code or RGB (0-255, 0-255, 0-255)\n",
    "legend_color = ['#E6E51E', '#E67D29', '#ADE693', '#19AD29', '#98AD95', '#294DEA']\n",
    "# legend_colors = [(255, 0, 0), (127, 255, 0), (127, 18, 25), (36, 70, 180), (96, 68 123)]\n",
    "\n",
    "Map.add_legend(\n",
    "    title='USV Guanajuato',\n",
    "    legend_dict=None,\n",
    "    labels=legend_key,\n",
    "    colors=legend_color,\n",
    "    position='bottomright',\n",
    "    builtin_legend=None,\n",
    "    layer_name=None,\n",
    ")\n",
    "Map"
   ]
  },
  {
   "cell_type": "markdown",
   "id": "47d8963f",
   "metadata": {},
   "source": [
    "### Define a legend dictionary"
   ]
  },
  {
   "cell_type": "code",
   "execution_count": null,
   "id": "a953df4b",
   "metadata": {},
   "outputs": [],
   "source": [
    "Map = geemap.Map()\n",
    "\n",
    "legend_key = ['Agricola', 'Pastizal', 'Vegetacion', 'Bosque', 'Zona Urbana', 'Cuerpo de Agua']\n",
    "# colorS can be defined using either hex code or RGB (0-255, 0-255, 0-255)\n",
    "legend_color = ['#E6E51E', '#E67D29', '#ADE693', '#19AD29', '#98AD95', '#294DEA']\n",
    "\n",
    "legend_dict = {\n",
    "    '6 Cuerpo de Agua': '#294DEA',\n",
    "    '5 Zona Urbana': '#98AD95',\n",
    "    '4 Bosque': '19AD29',\n",
    "    '3 Otra Vegetacion': 'Vegetacion',\n",
    "    '2 Pastizal': '#E67D29',\n",
    "    '1 Agricola': '#E6E51E',\n",
    "   \n",
    "}\n",
    "\n",
    "landcover = ee.Image('users/Alejandro_AmayaH/GTO_USV')\n",
    "Map.addLayer(landcover, {}, 'Uso de Suelo GTO')\n",
    "Map.add_legend(legend_title=\"Uso de Suelo GTO Classification\", legend_dict=legend_dict)\n",
    "Map"
   ]
  },
  {
   "cell_type": "markdown",
   "id": "9c1f50ff",
   "metadata": {},
   "source": [
    "### Convert an Earth Engine class table to legend\n",
    "\n",
    "For example: MCD12Q1.051 Land Cover Type Yearly Global 500m\n",
    "\n",
    "https://developers.google.com/earth-engine/datasets/catalog/MODIS_051_MCD12Q1"
   ]
  },
  {
   "cell_type": "code",
   "execution_count": null,
   "id": "abd0a372",
   "metadata": {},
   "outputs": [],
   "source": [
    "Map = geemap.Map()\n",
    "\n",
    "ee_class_table = \"\"\"\n",
    "\n",
    "Value\tColor\tDescription\n",
    "1\t05450a\tAgricola\n",
    "2\t086a10\tPastizal\n",
    "3\t54a708\tOtra Vegetacion\n",
    "4\t78d203\tBosque\n",
    "5\t009900\tZona Urbana\n",
    "6\tc6b044\tCuerpo de Agua\n",
    "254\tffffff\tUnclassified\n",
    "\n",
    "\"\"\"\n",
    "\n",
    "landcover = ee.Image('users/Alejandro_AmayaH/GTO_USV').select(0)\n",
    "Map.setCenter(6.746, 46.529, 2)\n",
    "Map.addLayer(landcover, {}, 'Uso de Suelo GTO')\n",
    "\n",
    "legend_dict = geemap.legend_from_ee(ee_class_table)\n",
    "Map.add_legend(legend_title=\"Uso de Suelo GTO Land Cover\", legend_dict=legend_dict)\n",
    "\n",
    "Map"
   ]
  },
  {
   "cell_type": "code",
   "execution_count": null,
   "id": "deff4bd0",
   "metadata": {},
   "outputs": [],
   "source": []
  }
 ],
 "metadata": {
  "kernelspec": {
   "display_name": "Python 3 (ipykernel)",
   "language": "python",
   "name": "python3"
  },
  "language_info": {
   "codemirror_mode": {
    "name": "ipython",
    "version": 3
   },
   "file_extension": ".py",
   "mimetype": "text/x-python",
   "name": "python",
   "nbconvert_exporter": "python",
   "pygments_lexer": "ipython3",
   "version": "3.10.10"
  }
 },
 "nbformat": 4,
 "nbformat_minor": 5
}
