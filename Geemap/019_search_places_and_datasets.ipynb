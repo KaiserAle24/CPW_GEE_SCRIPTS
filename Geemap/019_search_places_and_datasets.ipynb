{
 "cells": [
  {
   "cell_type": "markdown",
   "id": "14242368",
   "metadata": {},
   "source": [
    "<a href=\"https://githubtocolab.com/giswqs/geemap/blob/master/examples/notebooks/19_search_places_and_datasets.ipynb\" target=\"_parent\"><img src=\"https://colab.research.google.com/assets/colab-badge.svg\" alt=\"Open in Colab\"/></a>\n",
    "\n",
    "Uncomment the following line to install [geemap](https://geemap.org) if needed."
   ]
  },
  {
   "cell_type": "code",
   "execution_count": null,
   "id": "4ac0eb1d",
   "metadata": {},
   "outputs": [],
   "source": [
    "# !pip install geemap"
   ]
  },
  {
   "cell_type": "code",
   "execution_count": 1,
   "id": "cd78ba1f",
   "metadata": {},
   "outputs": [],
   "source": [
    "import ee\n",
    "import geemap"
   ]
  },
  {
   "cell_type": "code",
   "execution_count": 6,
   "id": "1f822c08",
   "metadata": {},
   "outputs": [
    {
     "data": {
      "application/vnd.jupyter.widget-view+json": {
       "model_id": "eede24aab87f4e74a7fb839b5fc1ad2c",
       "version_major": 2,
       "version_minor": 0
      },
      "text/plain": [
       "Output(layout=Layout(width='815px'))"
      ]
     },
     "metadata": {},
     "output_type": "display_data"
    }
   ],
   "source": [
    "geemap.show_youtube('lwtgzrHrXj8')"
   ]
  },
  {
   "cell_type": "markdown",
   "id": "2b278885",
   "metadata": {},
   "source": [
    "## Update the geemap package\n",
    "\n",
    "If you run into errors with this notebook, please uncomment the line below to update the [geemap](https://github.com/giswqs/geemap#installation) package to the latest version from GitHub. \n",
    "Restart the Kernel (Menu -> Kernel -> Restart) to take effect."
   ]
  },
  {
   "cell_type": "code",
   "execution_count": null,
   "id": "7f061e36",
   "metadata": {},
   "outputs": [],
   "source": [
    "# geemap.update_package()"
   ]
  },
  {
   "cell_type": "markdown",
   "id": "d2049626",
   "metadata": {},
   "source": [
    "## Create an interactive map"
   ]
  },
  {
   "cell_type": "code",
   "execution_count": 2,
   "id": "e52f3bc4",
   "metadata": {},
   "outputs": [
    {
     "data": {
      "application/vnd.jupyter.widget-view+json": {
       "model_id": "e935e6092120425b9b14fb39b00b78af",
       "version_major": 2,
       "version_minor": 0
      },
      "text/plain": [
       "Map(center=[20, 0], controls=(WidgetControl(options=['position', 'transparent_bg'], widget=HBox(children=(Togg…"
      ]
     },
     "metadata": {},
     "output_type": "display_data"
    }
   ],
   "source": [
    "Map = geemap.Map()\n",
    "Map"
   ]
  },
  {
   "cell_type": "markdown",
   "id": "cbf72bb7",
   "metadata": {},
   "source": [
    "## Convert marker to ee.Geometry"
   ]
  },
  {
   "cell_type": "code",
   "execution_count": 3,
   "id": "d12a7b8b",
   "metadata": {},
   "outputs": [],
   "source": [
    "Map.search_locations"
   ]
  },
  {
   "cell_type": "code",
   "execution_count": 4,
   "id": "aae338b4",
   "metadata": {},
   "outputs": [],
   "source": [
    "Map.search_loc_geom"
   ]
  },
  {
   "cell_type": "code",
   "execution_count": 5,
   "id": "2eeb1838",
   "metadata": {},
   "outputs": [],
   "source": [
    "location = Map.search_loc_geom\n",
    "# print(location.getInfo())"
   ]
  },
  {
   "cell_type": "code",
   "execution_count": null,
   "id": "c6cf1854",
   "metadata": {},
   "outputs": [],
   "source": []
  }
 ],
 "metadata": {
  "kernelspec": {
   "display_name": "Python 3 (ipykernel)",
   "language": "python",
   "name": "python3"
  },
  "language_info": {
   "codemirror_mode": {
    "name": "ipython",
    "version": 3
   },
   "file_extension": ".py",
   "mimetype": "text/x-python",
   "name": "python",
   "nbconvert_exporter": "python",
   "pygments_lexer": "ipython3",
   "version": "3.10.10"
  }
 },
 "nbformat": 4,
 "nbformat_minor": 5
}
