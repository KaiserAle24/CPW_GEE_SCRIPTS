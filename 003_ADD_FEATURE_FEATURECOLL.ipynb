{
 "cells": [
  {
   "cell_type": "code",
   "execution_count": null,
   "id": "4193bb4f",
   "metadata": {},
   "outputs": [],
   "source": [
    "import ee\n",
    "import geemap"
   ]
  },
  {
   "cell_type": "code",
   "execution_count": null,
   "id": "797d417f",
   "metadata": {
    "scrolled": true
   },
   "outputs": [],
   "source": [
    "Map = geemap.Map(center=(19, -99), zoom=7)\n",
    "Map"
   ]
  },
  {
   "cell_type": "code",
   "execution_count": null,
   "id": "ef0d0f1f",
   "metadata": {},
   "outputs": [],
   "source": [
    "# Agregar feature desde una carpeta local "
   ]
  },
  {
   "cell_type": "code",
   "execution_count": null,
   "id": "dce69982",
   "metadata": {},
   "outputs": [],
   "source": [
    "paises_shp = '../data/countries.shp'\n",
    "paises = geemap.shp_to_ee(paises_shp)\n",
    "Map.addLayer(paises, {}, 'Paises')"
   ]
  },
  {
   "cell_type": "code",
   "execution_count": null,
   "id": "c5764e15",
   "metadata": {},
   "outputs": [],
   "source": [
    "# Agregar feature desde una Feature colection "
   ]
  },
  {
   "cell_type": "code",
   "execution_count": null,
   "id": "94d90edc",
   "metadata": {},
   "outputs": [],
   "source": [
    "countries = ee.FeatureCollection('USDOS/LSIB_SIMPLE/2017')\n",
    "Map.addLayer(countries, {}, 'Countries')"
   ]
  },
  {
   "cell_type": "code",
   "execution_count": null,
   "id": "47f14b4a",
   "metadata": {},
   "outputs": [],
   "source": [
    "# Agregar feature desde Assets alojados en la cuenta de GEE"
   ]
  },
  {
   "cell_type": "code",
   "execution_count": null,
   "id": "011ef1dc",
   "metadata": {},
   "outputs": [],
   "source": [
    "dataset_mex = ee.FeatureCollection('users/Alejandro_AmayaH/Estatal_MEX')\n",
    "Map.addLayer(dataset_mex, {}, \"Estatal_MEX\")"
   ]
  },
  {
   "cell_type": "code",
   "execution_count": null,
   "id": "dd6da91d",
   "metadata": {},
   "outputs": [],
   "source": [
    "dataset_nal = ee.FeatureCollection('users/Alejandro_AmayaH/ESTATAL_NAL')\n",
    "Map.addLayer(dataset_nal, {}, \"ESTATAL_NAL\")"
   ]
  },
  {
   "cell_type": "code",
   "execution_count": null,
   "id": "3d227fca",
   "metadata": {},
   "outputs": [],
   "source": []
  },
  {
   "cell_type": "code",
   "execution_count": null,
   "id": "7df3f75a",
   "metadata": {},
   "outputs": [],
   "source": [
    "geemap.ee_search()"
   ]
  },
  {
   "cell_type": "code",
   "execution_count": null,
   "id": "69e6156b",
   "metadata": {},
   "outputs": [],
   "source": []
  }
 ],
 "metadata": {
  "hide_input": false,
  "kernelspec": {
   "display_name": "Python 3 (ipykernel)",
   "language": "python",
   "name": "python3"
  },
  "language_info": {
   "codemirror_mode": {
    "name": "ipython",
    "version": 3
   },
   "file_extension": ".py",
   "mimetype": "text/x-python",
   "name": "python",
   "nbconvert_exporter": "python",
   "pygments_lexer": "ipython3",
   "version": "3.8.15"
  },
  "toc": {
   "base_numbering": 1,
   "nav_menu": {},
   "number_sections": true,
   "sideBar": true,
   "skip_h1_title": false,
   "title_cell": "Table of Contents",
   "title_sidebar": "Contents",
   "toc_cell": false,
   "toc_position": {},
   "toc_section_display": true,
   "toc_window_display": false
  }
 },
 "nbformat": 4,
 "nbformat_minor": 5
}
