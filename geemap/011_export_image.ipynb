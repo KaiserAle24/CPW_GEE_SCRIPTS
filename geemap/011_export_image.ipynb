{
 "cells": [
  {
   "cell_type": "markdown",
   "id": "4af3d152",
   "metadata": {},
   "source": [
    "<a href=\"https://githubtocolab.com/giswqs/geemap/blob/master/examples/notebooks/11_export_image.ipynb\" target=\"_parent\"><img src=\"https://colab.research.google.com/assets/colab-badge.svg\" alt=\"Open in Colab\"/></a>\n",
    "\n",
    "Uncomment the following line to install [geemap](https://geemap.org) if needed."
   ]
  },
  {
   "cell_type": "code",
   "execution_count": null,
   "id": "e72a551a",
   "metadata": {},
   "outputs": [],
   "source": [
    "# !pip install geemap"
   ]
  },
  {
   "cell_type": "code",
   "execution_count": 1,
   "id": "c5945b8f",
   "metadata": {},
   "outputs": [],
   "source": [
    "import ee\n",
    "import geemap\n",
    "import os"
   ]
  },
  {
   "cell_type": "code",
   "execution_count": null,
   "id": "7d06ba48",
   "metadata": {},
   "outputs": [],
   "source": [
    "# geemap.show_youtube('_6JOA-iiEGU')"
   ]
  },
  {
   "cell_type": "code",
   "execution_count": 2,
   "id": "692aefac",
   "metadata": {},
   "outputs": [
    {
     "data": {
      "application/vnd.jupyter.widget-view+json": {
       "model_id": "5f6471fad83a411cb4e4a1bc4e973831",
       "version_major": 2,
       "version_minor": 0
      },
      "text/plain": [
       "Map(center=[20, 0], controls=(WidgetControl(options=['position', 'transparent_bg'], widget=HBox(children=(Togg…"
      ]
     },
     "metadata": {},
     "output_type": "display_data"
    }
   ],
   "source": [
    "Map = geemap.Map()\n",
    "Map"
   ]
  },
  {
   "cell_type": "markdown",
   "id": "447bebf6",
   "metadata": {},
   "source": [
    "## Download an ee.Image"
   ]
  },
  {
   "cell_type": "code",
   "execution_count": 3,
   "id": "c8dda196",
   "metadata": {},
   "outputs": [],
   "source": [
    "image = ee.Image('LANDSAT/LE7_TOA_5YEAR/1999_2003')\n",
    "\n",
    "landsat_vis = {'bands': ['B4', 'B3', 'B2'], 'gamma': 1.4}\n",
    "Map.addLayer(image, landsat_vis, \"LE7_TOA_5YEAR/1999_2003\", True, 0.7)"
   ]
  },
  {
   "cell_type": "code",
   "execution_count": 4,
   "id": "67b5d7c1",
   "metadata": {},
   "outputs": [],
   "source": [
    "# Draw any shapes on the map using the Drawing tools before executing this code block\n",
    "feature = Map.draw_last_feature\n",
    "\n",
    "if feature is None:\n",
    "    geom = ee.Geometry.Polygon(\n",
    "        [\n",
    "            [\n",
    "                [-101.0374, 26.2511],\n",
    "                [-101.0374, 25.8812],\n",
    "                [-100.5503, 25.8812],\n",
    "                [-100.5503, 26.2511],\n",
    "                [-101.0374, 26.2511],\n",
    "            ]\n",
    "        ]\n",
    "    )\n",
    "    feature = ee.Feature(geom, {})\n",
    "\n",
    "roi = feature.geometry()"
   ]
  },
  {
   "cell_type": "code",
   "execution_count": 5,
   "id": "4e2ea3ea",
   "metadata": {},
   "outputs": [],
   "source": [
    "out_dir = os.path.join(os.path.expanduser('~'), 'Downloads')\n",
    "filename = os.path.join(out_dir, 'landsat_cubeta.tif')"
   ]
  },
  {
   "cell_type": "markdown",
   "id": "1b2eb2f3",
   "metadata": {},
   "source": [
    "### Exporting all bands as one single image"
   ]
  },
  {
   "cell_type": "code",
   "execution_count": 6,
   "id": "a5afca8b",
   "metadata": {},
   "outputs": [
    {
     "name": "stdout",
     "output_type": "stream",
     "text": [
      "Generating URL ...\n",
      "Downloading data from https://earthengine.googleapis.com/v1alpha/projects/earthengine-legacy/thumbnails/c3cf674ba9e24a7093fa33a3020d271e-b9a6a1a9254e2fefd4e3b7e17e4d4a55:getPixels\n",
      "Please wait ...\n",
      "Data downloaded to C:\\Users\\PC\\Downloads\\landsat_cubeta.tif\n"
     ]
    }
   ],
   "source": [
    "image = image.clip(roi).unmask()\n",
    "geemap.ee_export_image(\n",
    "    image, filename=filename, scale=30, region=roi, file_per_band=False\n",
    ")"
   ]
  },
  {
   "cell_type": "markdown",
   "id": "13b411af",
   "metadata": {},
   "source": [
    "### Exporting each band as one image"
   ]
  },
  {
   "cell_type": "code",
   "execution_count": 7,
   "id": "c7acf662",
   "metadata": {},
   "outputs": [
    {
     "name": "stdout",
     "output_type": "stream",
     "text": [
      "Generating URL ...\n",
      "Downloading data from https://earthengine.googleapis.com/v1alpha/projects/earthengine-legacy/thumbnails/fc6c073f6785a04dab605efcf63b14f7-b35eef09f9fb373c55e6e973688d69b2:getPixels\n",
      "Please wait ...\n",
      "Data downloaded to C:\\Users\\PC\\Downloads\n"
     ]
    }
   ],
   "source": [
    "geemap.ee_export_image(\n",
    "    image, filename=filename, scale=90, region=roi, file_per_band=True\n",
    ")"
   ]
  },
  {
   "cell_type": "markdown",
   "id": "742c47f1",
   "metadata": {},
   "source": [
    "### Export an image to Google Drive"
   ]
  },
  {
   "cell_type": "code",
   "execution_count": 9,
   "id": "19931b23",
   "metadata": {},
   "outputs": [],
   "source": [
    "geemap.ee_export_image_to_drive(\n",
    "    image, description='landsat', folder='export', region=roi, scale=30\n",
    ")"
   ]
  },
  {
   "cell_type": "markdown",
   "id": "a3936495",
   "metadata": {},
   "source": [
    "## Extract pixels as a Numpy array"
   ]
  },
  {
   "cell_type": "code",
   "execution_count": null,
   "id": "5ecd0687",
   "metadata": {},
   "outputs": [],
   "source": [
    "import ee\n",
    "import geemap\n",
    "import numpy as np\n",
    "import matplotlib.pyplot as plt\n",
    "\n",
    "img = ee.Image('LANDSAT/LC08/C01/T1_SR/LC08_038029_20180810').select(['B4', 'B5', 'B6'])\n",
    "\n",
    "aoi = ee.Geometry.Polygon(\n",
    "    [[[-110.8, 44.7], [-110.8, 44.6], [-110.6, 44.6], [-110.6, 44.7]]], None, False\n",
    ")\n",
    "\n",
    "rgb_img = geemap.ee_to_numpy(img, region=aoi)\n",
    "print(rgb_img.shape)"
   ]
  },
  {
   "cell_type": "code",
   "execution_count": null,
   "id": "5cf13a90",
   "metadata": {},
   "outputs": [],
   "source": [
    "# Scale the data to [0, 255] to show as an RGB image.\n",
    "# Adapted from https://bit.ly/2XlmQY8. Credits to Justin Braaten\n",
    "rgb_img_test = (255 * ((rgb_img[:, :, 0:3] - 100) / 3500)).astype('uint8')\n",
    "plt.imshow(rgb_img_test)\n",
    "plt.show()"
   ]
  },
  {
   "cell_type": "code",
   "execution_count": null,
   "id": "ef92315d",
   "metadata": {},
   "outputs": [],
   "source": []
  }
 ],
 "metadata": {
  "kernelspec": {
   "display_name": "Python 3 (ipykernel)",
   "language": "python",
   "name": "python3"
  },
  "language_info": {
   "codemirror_mode": {
    "name": "ipython",
    "version": 3
   },
   "file_extension": ".py",
   "mimetype": "text/x-python",
   "name": "python",
   "nbconvert_exporter": "python",
   "pygments_lexer": "ipython3",
   "version": "3.10.10"
  }
 },
 "nbformat": 4,
 "nbformat_minor": 5
}
