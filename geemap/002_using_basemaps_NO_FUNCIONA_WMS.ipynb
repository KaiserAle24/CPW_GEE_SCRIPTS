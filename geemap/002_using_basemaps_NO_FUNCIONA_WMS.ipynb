{
 "cells": [
  {
   "cell_type": "markdown",
   "id": "cc3d017d",
   "metadata": {},
   "source": [
    "<a href=\"https://githubtocolab.com/gee-community/geemap/blob/master/examples/notebooks/02_using_basemaps.ipynb\" target=\"_parent\"><img src=\"https://colab.research.google.com/assets/colab-badge.svg\" alt=\"Open in Colab\"/></a>"
   ]
  },
  {
   "cell_type": "markdown",
   "id": "5f2d0687",
   "metadata": {},
   "source": [
    "Uncomment the following line to install [geemap](https://geemap.org) if needed."
   ]
  },
  {
   "cell_type": "code",
   "execution_count": null,
   "id": "0b71a317",
   "metadata": {},
   "outputs": [],
   "source": [
    "# !pip install geemap"
   ]
  },
  {
   "cell_type": "code",
   "execution_count": 1,
   "id": "40f64a2a",
   "metadata": {},
   "outputs": [],
   "source": [
    "import geemap"
   ]
  },
  {
   "cell_type": "code",
   "execution_count": null,
   "id": "4dfa1af1",
   "metadata": {},
   "outputs": [],
   "source": [
    "# geemap.show_youtube('6J5ZCIUPXfI')"
   ]
  },
  {
   "cell_type": "code",
   "execution_count": 2,
   "id": "43391284",
   "metadata": {},
   "outputs": [
    {
     "data": {
      "application/vnd.jupyter.widget-view+json": {
       "model_id": "571acc8e4da14b4db750b61a22b8fa2d",
       "version_major": 2,
       "version_minor": 0
      },
      "text/plain": [
       "Map(center=[21.4, -99], controls=(WidgetControl(options=['position', 'transparent_bg'], widget=HBox(children=(…"
      ]
     },
     "metadata": {},
     "output_type": "display_data"
    }
   ],
   "source": [
    "Map = geemap.Map(center=[21.4, -99], zoom=5)\n",
    "Map"
   ]
  },
  {
   "cell_type": "code",
   "execution_count": null,
   "id": "39fb6afa",
   "metadata": {},
   "outputs": [],
   "source": [
    "Map.add_basemap('HYBRID')"
   ]
  },
  {
   "cell_type": "code",
   "execution_count": null,
   "id": "7117ef76",
   "metadata": {},
   "outputs": [],
   "source": [
    "naip_url = 'http://gaia.inegi.org.mx/NLB/tunnel/wms/wms61?'\n",
    "Map.add_wms_layer(\n",
    "    url=naip_url, \n",
    "    layers='0', \n",
    "    name='NAIP Imagery', \n",
    "    format='image/png', \n",
    "    shown=True\n",
    ")"
   ]
  },
  {
   "cell_type": "code",
   "execution_count": null,
   "id": "5612e361",
   "metadata": {},
   "outputs": [],
   "source": [
    "Map.add_wms_layer(\n",
    "    url = \"http://201.116.60.30/arcgis/services/SINA/Areas_Naturales_Protegidas/MapServer/WMSServer?\",\n",
    "    layers = \"0\",\n",
    "    name=\"Areas Naturales\",\n",
    "    format=\"image/png\",\n",
    "    transparent=True,\n",
    "    opacity=1.0,\n",
    "    shown=True,\n",
    ")"
   ]
  },
  {
   "cell_type": "code",
   "execution_count": 4,
   "id": "1c49a57a",
   "metadata": {},
   "outputs": [],
   "source": [
    "url = 'https://mt1.google.com/vt/lyrs=m&x={x}&y={y}&z={z}' \n",
    "Map.add_tile_layer(url, name='Tile Map', attribution='Tile Map')"
   ]
  },
  {
   "cell_type": "code",
   "execution_count": 5,
   "id": "d144ce92",
   "metadata": {},
   "outputs": [
    {
     "data": {
      "application/vnd.jupyter.widget-view+json": {
       "model_id": "8580e110888b4861b55560652bd8c53e",
       "version_major": 2,
       "version_minor": 0
      },
      "text/plain": [
       "Map(center=[20, 0], controls=(WidgetControl(options=['position', 'transparent_bg'], widget=HBox(children=(Togg…"
      ]
     },
     "metadata": {},
     "output_type": "display_data"
    }
   ],
   "source": [
    "m = geemap.Map()\n",
    "m.basemap_demo()\n",
    "m\n",
    "#Map.add_wms_layer()"
   ]
  },
  {
   "cell_type": "code",
   "execution_count": null,
   "id": "66bf2934",
   "metadata": {},
   "outputs": [],
   "source": []
  }
 ],
 "metadata": {
  "kernelspec": {
   "display_name": "Python 3 (ipykernel)",
   "language": "python",
   "name": "python3"
  },
  "language_info": {
   "codemirror_mode": {
    "name": "ipython",
    "version": 3
   },
   "file_extension": ".py",
   "mimetype": "text/x-python",
   "name": "python",
   "nbconvert_exporter": "python",
   "pygments_lexer": "ipython3",
   "version": "3.10.10"
  }
 },
 "nbformat": 4,
 "nbformat_minor": 5
}
