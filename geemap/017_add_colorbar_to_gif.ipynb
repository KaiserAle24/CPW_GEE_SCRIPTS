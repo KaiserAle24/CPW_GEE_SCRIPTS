{
 "cells": [
  {
   "cell_type": "markdown",
   "id": "a56f272f",
   "metadata": {},
   "source": [
    "<a href=\"https://githubtocolab.com/giswqs/geemap/blob/master/examples/notebooks/17_add_colorbar_to_gif.ipynb\" target=\"_parent\"><img src=\"https://colab.research.google.com/assets/colab-badge.svg\" alt=\"Open in Colab\"/></a>\n",
    "\n",
    "Uncomment the following line to install [geemap](https://geemap.org) if needed."
   ]
  },
  {
   "cell_type": "code",
   "execution_count": null,
   "id": "aaf81ee5",
   "metadata": {},
   "outputs": [],
   "source": [
    "# !pip install geemap"
   ]
  },
  {
   "cell_type": "code",
   "execution_count": 1,
   "id": "e998b831",
   "metadata": {},
   "outputs": [],
   "source": [
    "import geemap\n",
    "import os"
   ]
  },
  {
   "cell_type": "markdown",
   "id": "a5be60ac",
   "metadata": {},
   "source": [
    "## Update the geemap package\n",
    "\n",
    "If you run into errors with this notebook, please uncomment the line below to update the [geemap](https://github.com/giswqs/geemap#installation) package to the latest version from GitHub. \n",
    "Restart the Kernel (Menu -> Kernel -> Restart) to take effect."
   ]
  },
  {
   "cell_type": "code",
   "execution_count": 2,
   "id": "7f628fed",
   "metadata": {},
   "outputs": [],
   "source": [
    "# geemap.update_package()"
   ]
  },
  {
   "cell_type": "markdown",
   "id": "cb73c720",
   "metadata": {},
   "source": [
    "### Download a GIF"
   ]
  },
  {
   "cell_type": "code",
   "execution_count": 3,
   "id": "9713132a",
   "metadata": {},
   "outputs": [],
   "source": [
    "from geemap import *"
   ]
  },
  {
   "cell_type": "code",
   "execution_count": 4,
   "id": "564d1add",
   "metadata": {},
   "outputs": [
    {
     "name": "stdout",
     "output_type": "stream",
     "text": [
      "Downloading https://i.imgur.com/3q4RMab.gif ...\n",
      "Data downloaded to: C:\\Users\\PC\\Downloads\\temp.gif\n"
     ]
    }
   ],
   "source": [
    "url = 'https://i.imgur.com/3q4RMab.gif'  \n",
    "out_dir = os.path.join(os.path.expanduser('~'), 'Downloads')\n",
    "if not os.path.exists(out_dir):\n",
    "    os.makedirs(out_dir)\n",
    "download_from_url(url, out_file_name='temp.gif', out_dir=out_dir)"
   ]
  },
  {
   "cell_type": "code",
   "execution_count": 5,
   "id": "1ccd026a",
   "metadata": {},
   "outputs": [
    {
     "data": {
      "application/vnd.jupyter.widget-view+json": {
       "model_id": "fcef6032c1754f78b01591f5ff37bbf7",
       "version_major": 2,
       "version_minor": 0
      },
      "text/plain": [
       "Output()"
      ]
     },
     "metadata": {},
     "output_type": "display_data"
    }
   ],
   "source": [
    "in_gif = os.path.join(out_dir, 'temp.gif')\n",
    "show_image(in_gif)"
   ]
  },
  {
   "cell_type": "markdown",
   "id": "08e9cc99",
   "metadata": {},
   "source": [
    "### Get image URLs"
   ]
  },
  {
   "cell_type": "code",
   "execution_count": 6,
   "id": "cc767543",
   "metadata": {},
   "outputs": [],
   "source": [
    "noaa_logo = 'https://i.imgur.com/IKI6JdQ.jpg'\n",
    "ee_logo = 'https://i.imgur.com/pj7WMDv.jpg'"
   ]
  },
  {
   "cell_type": "markdown",
   "id": "048db53e",
   "metadata": {},
   "source": [
    "### Set output GIF path"
   ]
  },
  {
   "cell_type": "code",
   "execution_count": 7,
   "id": "0ab7ac62",
   "metadata": {},
   "outputs": [],
   "source": [
    "out_gif = os.path.join(out_dir, 'output.gif')"
   ]
  },
  {
   "cell_type": "markdown",
   "id": "ae88d389",
   "metadata": {},
   "source": [
    "### Add images to GIF"
   ]
  },
  {
   "cell_type": "code",
   "execution_count": 8,
   "id": "bc693684",
   "metadata": {},
   "outputs": [],
   "source": [
    "add_image_to_gif(\n",
    "    in_gif, out_gif, in_image=noaa_logo, xy=('80%', '3%'), image_size=(55, 55)\n",
    ")"
   ]
  },
  {
   "cell_type": "code",
   "execution_count": 9,
   "id": "bb1c55ab",
   "metadata": {},
   "outputs": [],
   "source": [
    "add_image_to_gif(\n",
    "    out_gif, out_gif, in_image=ee_logo, xy=('90%', '3%'), image_size=(60, 60)\n",
    ")"
   ]
  },
  {
   "cell_type": "markdown",
   "id": "8915f93e",
   "metadata": {},
   "source": [
    "### Display output GIF"
   ]
  },
  {
   "cell_type": "code",
   "execution_count": 10,
   "id": "d136eefd",
   "metadata": {},
   "outputs": [
    {
     "data": {
      "application/vnd.jupyter.widget-view+json": {
       "model_id": "8e12b88109284e30aa2337772c7d5769",
       "version_major": 2,
       "version_minor": 0
      },
      "text/plain": [
       "Output()"
      ]
     },
     "metadata": {},
     "output_type": "display_data"
    }
   ],
   "source": [
    "show_image(out_gif)"
   ]
  },
  {
   "cell_type": "markdown",
   "id": "ab95773a",
   "metadata": {},
   "source": [
    "### Create a colorbar"
   ]
  },
  {
   "cell_type": "code",
   "execution_count": 11,
   "id": "f1950d14",
   "metadata": {},
   "outputs": [],
   "source": [
    "width = 300\n",
    "height = 40\n",
    "palette = ['blue', 'purple', 'cyan', 'green', 'yellow', 'red']\n",
    "labels = [-10, 35]\n",
    "colorbar = create_colorbar(\n",
    "    width=width,\n",
    "    height=height,\n",
    "    palette=palette,\n",
    "    vertical=False,\n",
    "    add_labels=True,\n",
    "    font_size=20,\n",
    "    labels=labels,\n",
    ")"
   ]
  },
  {
   "cell_type": "code",
   "execution_count": 12,
   "id": "5250765e",
   "metadata": {},
   "outputs": [
    {
     "data": {
      "application/vnd.jupyter.widget-view+json": {
       "model_id": "c4a23b8c3d5d47449d3c1d795820917d",
       "version_major": 2,
       "version_minor": 0
      },
      "text/plain": [
       "Output()"
      ]
     },
     "metadata": {},
     "output_type": "display_data"
    }
   ],
   "source": [
    "show_image(colorbar)"
   ]
  },
  {
   "cell_type": "markdown",
   "id": "d0dde51a",
   "metadata": {},
   "source": [
    "### Add colorbar to GIF"
   ]
  },
  {
   "cell_type": "code",
   "execution_count": 13,
   "id": "a081f7f8",
   "metadata": {},
   "outputs": [],
   "source": [
    "add_image_to_gif(\n",
    "    out_gif, out_gif, in_image=colorbar, xy=('69%', '89%'), image_size=(250, 250)\n",
    ")"
   ]
  },
  {
   "cell_type": "code",
   "execution_count": 14,
   "id": "68e3997f",
   "metadata": {},
   "outputs": [
    {
     "data": {
      "application/vnd.jupyter.widget-view+json": {
       "model_id": "e0fdd95494574f4ba2d0b1f289fedd21",
       "version_major": 2,
       "version_minor": 0
      },
      "text/plain": [
       "Output()"
      ]
     },
     "metadata": {},
     "output_type": "display_data"
    }
   ],
   "source": [
    "show_image(out_gif)"
   ]
  },
  {
   "cell_type": "code",
   "execution_count": null,
   "id": "8b1450d1",
   "metadata": {},
   "outputs": [],
   "source": []
  }
 ],
 "metadata": {
  "kernelspec": {
   "display_name": "Python 3 (ipykernel)",
   "language": "python",
   "name": "python3"
  },
  "language_info": {
   "codemirror_mode": {
    "name": "ipython",
    "version": 3
   },
   "file_extension": ".py",
   "mimetype": "text/x-python",
   "name": "python",
   "nbconvert_exporter": "python",
   "pygments_lexer": "ipython3",
   "version": "3.10.10"
  }
 },
 "nbformat": 4,
 "nbformat_minor": 5
}
