{
 "cells": [
  {
   "cell_type": "markdown",
   "id": "2955b7b7",
   "metadata": {},
   "source": [
    "<a href=\"https://githubtocolab.com/giswqs/geemap/blob/master/examples/notebooks/04_split_panel_map.ipynb\" target=\"_parent\"><img src=\"https://colab.research.google.com/assets/colab-badge.svg\" alt=\"Open in Colab\"/></a>"
   ]
  },
  {
   "cell_type": "markdown",
   "id": "62b00746",
   "metadata": {},
   "source": [
    "Uncomment the following line to install [geemap](https://geemap.org) if needed."
   ]
  },
  {
   "cell_type": "code",
   "execution_count": null,
   "id": "922ba1bc",
   "metadata": {},
   "outputs": [],
   "source": [
    "# !pip install geemap"
   ]
  },
  {
   "cell_type": "code",
   "execution_count": 1,
   "id": "14f7c202",
   "metadata": {},
   "outputs": [],
   "source": [
    "import geemap"
   ]
  },
  {
   "cell_type": "code",
   "execution_count": null,
   "id": "63135c38",
   "metadata": {},
   "outputs": [],
   "source": [
    "# geemap.show_youtube('9EUTX8j-YVM')"
   ]
  },
  {
   "cell_type": "code",
   "execution_count": 3,
   "id": "6a2152dc",
   "metadata": {},
   "outputs": [
    {
     "data": {
      "application/vnd.jupyter.widget-view+json": {
       "model_id": "76719adf41a64821884e2348f5ee695f",
       "version_major": 2,
       "version_minor": 0
      },
      "text/plain": [
       "Map(center=[20, 0], controls=(ZoomControl(options=['position', 'zoom_in_text', 'zoom_in_title', 'zoom_out_text…"
      ]
     },
     "metadata": {},
     "output_type": "display_data"
    }
   ],
   "source": [
    "Map = geemap.Map()\n",
    "Map.split_map()\n",
    "Map"
   ]
  },
  {
   "cell_type": "code",
   "execution_count": 4,
   "id": "10f9be1f",
   "metadata": {},
   "outputs": [
    {
     "data": {
      "application/vnd.jupyter.widget-view+json": {
       "model_id": "30f98d943153481aa495a47b261108d2",
       "version_major": 2,
       "version_minor": 0
      },
      "text/plain": [
       "Map(center=[20, 0], controls=(ZoomControl(options=['position', 'zoom_in_text', 'zoom_in_title', 'zoom_out_text…"
      ]
     },
     "metadata": {},
     "output_type": "display_data"
    }
   ],
   "source": [
    "Map = geemap.Map()\n",
    "Map.split_map(left_layer='HYBRID', right_layer='ROADMAP')\n",
    "Map"
   ]
  },
  {
   "cell_type": "code",
   "execution_count": 5,
   "id": "c9315d9d",
   "metadata": {},
   "outputs": [
    {
     "name": "stdout",
     "output_type": "stream",
     "text": [
      "dict_keys(['OpenStreetMap', 'ROADMAP', 'SATELLITE', 'TERRAIN', 'HYBRID', 'FWS NWI Wetlands', 'FWS NWI Wetlands Raster', 'NLCD 2019 CONUS Land Cover', 'NLCD 2016 CONUS Land Cover', 'NLCD 2013 CONUS Land Cover', 'NLCD 2011 CONUS Land Cover', 'NLCD 2008 CONUS Land Cover', 'NLCD 2006 CONUS Land Cover', 'NLCD 2004 CONUS Land Cover', 'NLCD 2001 CONUS Land Cover', 'USGS NAIP Imagery', 'USGS NAIP Imagery False Color', 'USGS NAIP Imagery NDVI', 'USGS Hydrography', 'USGS 3DEP Elevation', 'ESA WorldCover 2020', 'ESA WorldCover 2020 S2 FCC', 'ESA WorldCover 2020 S2 TCC', 'ESA WorldCover 2021', 'ESA WorldCover 2021 S2 FCC', 'ESA WorldCover 2021 S2 TCC', 'BasemapAT.basemap', 'BasemapAT.grau', 'BasemapAT.highdpi', 'BasemapAT.orthofoto', 'BasemapAT.overlay', 'BasemapAT.surface', 'BasemapAT.terrain', 'CartoDB.DarkMatter', 'CartoDB.DarkMatterNoLabels', 'CartoDB.DarkMatterOnlyLabels', 'CartoDB.Positron', 'CartoDB.PositronNoLabels', 'CartoDB.PositronOnlyLabels', 'CartoDB.Voyager', 'CartoDB.VoyagerLabelsUnder', 'CartoDB.VoyagerNoLabels', 'CartoDB.VoyagerOnlyLabels', 'CyclOSM', 'Esri.AntarcticBasemap', 'Esri.AntarcticImagery', 'Esri.ArcticImagery', 'Esri.ArcticOceanBase', 'Esri.ArcticOceanReference', 'Esri.DeLorme', 'Esri.NatGeoWorldMap', 'Esri.OceanBasemap', 'Esri.WorldGrayCanvas', 'Esri.WorldImagery', 'Esri.WorldPhysical', 'Esri.WorldShadedRelief', 'Esri.WorldStreetMap', 'Esri.WorldTerrain', 'Esri.WorldTopoMap', 'FreeMapSK', 'Gaode.Normal', 'Gaode.Satellite', 'GeoportailFrance.Adminexpress_cog_Latest', 'GeoportailFrance.Adminexpress_cog_carto_Latest', 'GeoportailFrance.Areamanagement_Zfu', 'GeoportailFrance.Areamanagement_Zus', 'GeoportailFrance.Bdcarto_etat_major_Niveau3', 'GeoportailFrance.Bdcarto_etat_major_Niveau4', 'GeoportailFrance.Buildings_Buildings', 'GeoportailFrance.Communes_Prioritydisctrict', 'GeoportailFrance.Dreal_Zonage_pinel', 'GeoportailFrance.Elevation_Contour_Line', 'GeoportailFrance.Elevation_Elevationgridcoverage_Shadow', 'GeoportailFrance.Elevation_Elevationgridcoverage_Threshold', 'GeoportailFrance.Elevation_Level0', 'GeoportailFrance.Elevation_Slopes', 'GeoportailFrance.Elevationgridcoverage_Highres_Quality', 'GeoportailFrance.Forets_Publiques', 'GeoportailFrance.Geographicalgridsystem_Dfci', 'GeoportailFrance.Geographicalgridsystems_1900typemaps', 'GeoportailFrance.Geographicalgridsystems_Bonne', 'GeoportailFrance.Geographicalgridsystems_Etatmajor10', 'GeoportailFrance.Geographicalgridsystems_Etatmajor40', 'GeoportailFrance.Geographicalgridsystems_Maps_Bduni_J1', 'GeoportailFrance.Geographicalgridsystems_Maps_Overview', 'GeoportailFrance.Geographicalgridsystems_Maps_Scan50_1950', 'GeoportailFrance.Geographicalgridsystems_Slopes_Mountain', 'GeoportailFrance.Geographicalgridsystems_Slopes_Pac', 'GeoportailFrance.Geographicalgridsystems_Terrier_v1', 'GeoportailFrance.Geographicalgridsystems_Terrier_v2', 'GeoportailFrance.Geographicalnames_Names', 'GeoportailFrance.Hedge_Hedge', 'GeoportailFrance.Hr_Orthoimagery_Orthophotos', 'GeoportailFrance.Hydrography_Bcae_2022', 'GeoportailFrance.Hydrography_Bcae_Latest', 'GeoportailFrance.Hydrography_Hydrography', 'GeoportailFrance.Insee_Filosofi_Enfants_0_17_Ans_Secret', 'GeoportailFrance.Insee_Filosofi_Logements_Surface_Moyenne_Secret', 'GeoportailFrance.Insee_Filosofi_Niveau_De_Vie_Secret', 'GeoportailFrance.Insee_Filosofi_Part_Familles_Monoparentales_Secret', 'GeoportailFrance.Insee_Filosofi_Part_Individus_25_39_Ans_Secret', 'GeoportailFrance.Insee_Filosofi_Part_Individus_40_54_Ans_Secret', 'GeoportailFrance.Insee_Filosofi_Part_Individus_55_64_Ans_Secret', 'GeoportailFrance.Insee_Filosofi_Part_Logements_Apres_1990_Secret', 'GeoportailFrance.Insee_Filosofi_Part_Logements_Avant_1945_Secret', 'GeoportailFrance.Insee_Filosofi_Part_Logements_Collectifs_Secret', 'GeoportailFrance.Insee_Filosofi_Part_Logements_Construits_1945_1970_Secret', 'GeoportailFrance.Insee_Filosofi_Part_Logements_Construits_1970_1990_Secret', 'GeoportailFrance.Insee_Filosofi_Part_Logements_Sociaux_Secret', 'GeoportailFrance.Insee_Filosofi_Part_Menages_1_Personne_Secret', 'GeoportailFrance.Insee_Filosofi_Part_Menages_5_Personnes_Ouplus_Secret', 'GeoportailFrance.Insee_Filosofi_Part_Menages_Maison_Secret', 'GeoportailFrance.Insee_Filosofi_Part_Menages_Pauvres_Secret', 'GeoportailFrance.Insee_Filosofi_Part_Menages_Proprietaires_Secret', 'GeoportailFrance.Insee_Filosofi_Part_Plus_65_Ans_Secret', 'GeoportailFrance.Insee_Filosofi_Population', 'GeoportailFrance.Landcover_Cha00_fr', 'GeoportailFrance.Landcover_Cha06_dom', 'GeoportailFrance.Landcover_Cha06_fr', 'GeoportailFrance.Landcover_Cha12_dom', 'GeoportailFrance.Landcover_Cha12_fr', 'GeoportailFrance.Landcover_Cha18', 'GeoportailFrance.Landcover_Cha18_dom', 'GeoportailFrance.Landcover_Cha18_fr', 'GeoportailFrance.Landcover_Clc00_dom', 'GeoportailFrance.Landcover_Clc00_fr', 'GeoportailFrance.Landcover_Clc00r_fr', 'GeoportailFrance.Landcover_Clc06_dom', 'GeoportailFrance.Landcover_Clc06_fr', 'GeoportailFrance.Landcover_Clc06r_dom', 'GeoportailFrance.Landcover_Clc06r_fr', 'GeoportailFrance.Landcover_Clc12', 'GeoportailFrance.Landcover_Clc12_dom', 'GeoportailFrance.Landcover_Clc12_fr', 'GeoportailFrance.Landcover_Clc12r', 'GeoportailFrance.Landcover_Clc12r_dom', 'GeoportailFrance.Landcover_Clc12r_fr', 'GeoportailFrance.Landcover_Clc18', 'GeoportailFrance.Landcover_Clc18_dom', 'GeoportailFrance.Landcover_Clc18_fr', 'GeoportailFrance.Landcover_Clc90_fr', 'GeoportailFrance.Landcover_Forestareas', 'GeoportailFrance.Landcover_Forestinventory_V1', 'GeoportailFrance.Landcover_Forestinventory_V2', 'GeoportailFrance.Landcover_Grid_Clc00', 'GeoportailFrance.Landcover_Grid_Clc00_dom', 'GeoportailFrance.Landcover_Grid_Clc00_fr', 'GeoportailFrance.Landcover_Grid_Clc00r_fr', 'GeoportailFrance.Landcover_Grid_Clc06', 'GeoportailFrance.Landcover_Grid_Clc06_dom', 'GeoportailFrance.Landcover_Grid_Clc06_fr', 'GeoportailFrance.Landcover_Grid_Clc06r', 'GeoportailFrance.Landcover_Grid_Clc06r_dom', 'GeoportailFrance.Landcover_Grid_Clc06r_fr', 'GeoportailFrance.Landcover_Grid_Clc12', 'GeoportailFrance.Landcover_Grid_Clc90_fr', 'GeoportailFrance.Landcover_Hr_Dlt_Clc12', 'GeoportailFrance.Landcover_Hr_Dlt_Clc15', 'GeoportailFrance.Landcover_Hr_Gra_Clc15', 'GeoportailFrance.Landcover_Hr_Imd_Clc12', 'GeoportailFrance.Landcover_Hr_Imd_Clc15', 'GeoportailFrance.Landcover_Hr_Tcd_Clc12', 'GeoportailFrance.Landcover_Hr_Tcd_Clc15', 'GeoportailFrance.Landcover_Hr_Waw_Clc15', 'GeoportailFrance.Landcover_Sylvoecoregions', 'GeoportailFrance.Landcover_Sylvoecoregions_Alluvium', 'GeoportailFrance.Landuse_Agriculture2007', 'GeoportailFrance.Landuse_Agriculture2008', 'GeoportailFrance.Landuse_Agriculture2009', 'GeoportailFrance.Landuse_Agriculture2010', 'GeoportailFrance.Landuse_Agriculture2011', 'GeoportailFrance.Landuse_Agriculture2012', 'GeoportailFrance.Landuse_Agriculture2013', 'GeoportailFrance.Landuse_Agriculture2014', 'GeoportailFrance.Landuse_Agriculture2015', 'GeoportailFrance.Landuse_Agriculture2016', 'GeoportailFrance.Landuse_Agriculture2017', 'GeoportailFrance.Landuse_Agriculture2018', 'GeoportailFrance.Landuse_Agriculture2019', 'GeoportailFrance.Landuse_Agriculture2020', 'GeoportailFrance.Landuse_Agriculture2021', 'GeoportailFrance.Landuse_Agriculture_Latest', 'GeoportailFrance.Limites_administratives_express_Latest', 'GeoportailFrance.Ocsge_Constructions', 'GeoportailFrance.Ocsge_Constructions_2002', 'GeoportailFrance.Ocsge_Constructions_2014', 'GeoportailFrance.Ocsge_Constructions_2016', 'GeoportailFrance.Ocsge_Constructions_2019', 'GeoportailFrance.Ocsge_Couverture', 'GeoportailFrance.Ocsge_Couverture_2002', 'GeoportailFrance.Ocsge_Couverture_2014', 'GeoportailFrance.Ocsge_Couverture_2016', 'GeoportailFrance.Ocsge_Couverture_2019', 'GeoportailFrance.Ocsge_Usage', 'GeoportailFrance.Ocsge_Usage_2002', 'GeoportailFrance.Ocsge_Usage_2014', 'GeoportailFrance.Ocsge_Usage_2016', 'GeoportailFrance.Ocsge_Usage_2019', 'GeoportailFrance.Ocsge_Visu_2016', 'GeoportailFrance.Ocsge_Visu_2019', 'GeoportailFrance.Orthoimagery_Ortho_sat_Pleiades_2012', 'GeoportailFrance.Orthoimagery_Ortho_sat_Pleiades_2013', 'GeoportailFrance.Orthoimagery_Ortho_sat_Pleiades_2014', 'GeoportailFrance.Orthoimagery_Ortho_sat_Pleiades_2015', 'GeoportailFrance.Orthoimagery_Ortho_sat_Pleiades_2016', 'GeoportailFrance.Orthoimagery_Ortho_sat_Pleiades_2017', 'GeoportailFrance.Orthoimagery_Ortho_sat_Pleiades_2018', 'GeoportailFrance.Orthoimagery_Ortho_sat_Pleiades_2019', 'GeoportailFrance.Orthoimagery_Ortho_sat_Pleiades_2020', 'GeoportailFrance.Orthoimagery_Ortho_sat_Pleiades_2021', 'GeoportailFrance.Orthoimagery_Ortho_sat_Pleiades_2022', 'GeoportailFrance.Orthoimagery_Ortho_sat_Rapideye_2010', 'GeoportailFrance.Orthoimagery_Ortho_sat_Rapideye_2011', 'GeoportailFrance.Orthoimagery_Ortho_sat_Spot_2013', 'GeoportailFrance.Orthoimagery_Ortho_sat_Spot_2014', 'GeoportailFrance.Orthoimagery_Ortho_sat_Spot_2015', 'GeoportailFrance.Orthoimagery_Ortho_sat_Spot_2016', 'GeoportailFrance.Orthoimagery_Ortho_sat_Spot_2017', 'GeoportailFrance.Orthoimagery_Ortho_sat_Spot_2018', 'GeoportailFrance.Orthoimagery_Ortho_sat_Spot_2019', 'GeoportailFrance.Orthoimagery_Ortho_sat_Spot_2020', 'GeoportailFrance.Orthoimagery_Ortho_sat_Spot_2021', 'GeoportailFrance.Orthoimagery_Orthophos_Restrictedareas', 'GeoportailFrance.Orthoimagery_Orthophotos2000', 'GeoportailFrance.Orthoimagery_Orthophotos2000_2005', 'GeoportailFrance.Orthoimagery_Orthophotos2001', 'GeoportailFrance.Orthoimagery_Orthophotos2002', 'GeoportailFrance.Orthoimagery_Orthophotos2003', 'GeoportailFrance.Orthoimagery_Orthophotos2004', 'GeoportailFrance.Orthoimagery_Orthophotos2005', 'GeoportailFrance.Orthoimagery_Orthophotos2006', 'GeoportailFrance.Orthoimagery_Orthophotos2006_2010', 'GeoportailFrance.Orthoimagery_Orthophotos2007', 'GeoportailFrance.Orthoimagery_Orthophotos2008', 'GeoportailFrance.Orthoimagery_Orthophotos2009', 'GeoportailFrance.Orthoimagery_Orthophotos2010', 'GeoportailFrance.Orthoimagery_Orthophotos2011', 'GeoportailFrance.Orthoimagery_Orthophotos2011_2015', 'GeoportailFrance.Orthoimagery_Orthophotos2012', 'GeoportailFrance.Orthoimagery_Orthophotos2013', 'GeoportailFrance.Orthoimagery_Orthophotos2014', 'GeoportailFrance.Orthoimagery_Orthophotos2015', 'GeoportailFrance.Orthoimagery_Orthophotos2016', 'GeoportailFrance.Orthoimagery_Orthophotos2017', 'GeoportailFrance.Orthoimagery_Orthophotos2018', 'GeoportailFrance.Orthoimagery_Orthophotos2019', 'GeoportailFrance.Orthoimagery_Orthophotos2020', 'GeoportailFrance.Orthoimagery_Orthophotos_1950_1965', 'GeoportailFrance.Orthoimagery_Orthophotos_1980_1995', 'GeoportailFrance.Orthoimagery_Orthophotos_Bdortho', 'GeoportailFrance.Orthoimagery_Orthophotos_Coast2000', 'GeoportailFrance.Orthoimagery_Orthophotos_Ilesdunord', 'GeoportailFrance.Orthoimagery_Orthophotos_Irc', 'GeoportailFrance.Orthoimagery_Orthophotos_Irc_2013', 'GeoportailFrance.Orthoimagery_Orthophotos_Irc_2014', 'GeoportailFrance.Orthoimagery_Orthophotos_Irc_2015', 'GeoportailFrance.Orthoimagery_Orthophotos_Irc_2016', 'GeoportailFrance.Orthoimagery_Orthophotos_Irc_2017', 'GeoportailFrance.Orthoimagery_Orthophotos_Irc_2018', 'GeoportailFrance.Orthoimagery_Orthophotos_Irc_2019', 'GeoportailFrance.Orthoimagery_Orthophotos_Irc_2020', 'GeoportailFrance.Orthoimagery_Orthophotos_Irc_express_2021', 'GeoportailFrance.Orthoimagery_Orthophotos_Irc_express_2022', 'GeoportailFrance.Orthoimagery_Orthophotos_Ortho_asp_pac2020', 'GeoportailFrance.Orthoimagery_Orthophotos_Ortho_asp_pac2021', 'GeoportailFrance.Orthoimagery_Orthophotos_Ortho_asp_pac2022', 'GeoportailFrance.Orthoimagery_Orthophotos_Ortho_express_2021', 'GeoportailFrance.Orthoimagery_Orthophotos_Ortho_express_2022', 'GeoportailFrance.Orthoimagery_Orthophotos_Socle_asp_2018', 'GeoportailFrance.Orthoimagery_Orthophotos_Urgence_Alex', 'GeoportailFrance.Pcrs_Lamb93', 'GeoportailFrance.Protectedareas_Apb', 'GeoportailFrance.Protectedareas_Apg', 'GeoportailFrance.Protectedareas_Aphn', 'GeoportailFrance.Protectedareas_Bios', 'GeoportailFrance.Protectedareas_Gp', 'GeoportailFrance.Protectedareas_Inpg', 'GeoportailFrance.Protectedareas_Mnhn_Cdl_Parcels', 'GeoportailFrance.Protectedareas_Mnhn_Cdl_Perimeter', 'GeoportailFrance.Protectedareas_Mnhn_Conservatoires', 'GeoportailFrance.Protectedareas_Mnhn_Rn_Perimeter', 'GeoportailFrance.Protectedareas_Pn', 'GeoportailFrance.Protectedareas_Pnm', 'GeoportailFrance.Protectedareas_Pnr', 'GeoportailFrance.Protectedareas_Prsf', 'GeoportailFrance.Protectedareas_Ramsar', 'GeoportailFrance.Protectedareas_Rb', 'GeoportailFrance.Protectedareas_Ripn', 'GeoportailFrance.Protectedareas_Rn', 'GeoportailFrance.Protectedareas_Rnc', 'GeoportailFrance.Protectedareas_Rncf', 'GeoportailFrance.Protectedareas_Sic', 'GeoportailFrance.Protectedareas_Znieff1', 'GeoportailFrance.Protectedareas_Znieff1_Sea', 'GeoportailFrance.Protectedareas_Znieff2', 'GeoportailFrance.Protectedareas_Znieff2_Sea', 'GeoportailFrance.Protectedareas_Zps', 'GeoportailFrance.Protectedsites_Mnhn_Reserves_regionales', 'GeoportailFrance.Securoute_Te_1te', 'GeoportailFrance.Securoute_Te_2te48', 'GeoportailFrance.Securoute_Te_All', 'GeoportailFrance.Securoute_Te_Oa', 'GeoportailFrance.Securoute_Te_Pn', 'GeoportailFrance.Securoute_Te_Pnd', 'GeoportailFrance.Securoute_Te_Te120', 'GeoportailFrance.Securoute_Te_Te72', 'GeoportailFrance.Securoute_Te_Te94', 'GeoportailFrance.Thr_Orthoimagery_Orthophotos', 'GeoportailFrance.Transportnetwork_Commontransportelements_Markerpost', 'GeoportailFrance.Transportnetworks_Railways', 'GeoportailFrance.Transportnetworks_Roads', 'GeoportailFrance.Transportnetworks_Roads_Direction', 'GeoportailFrance.Transportnetworks_Runways', 'GeoportailFrance.Transports_Drones_Restrictions', 'GeoportailFrance.Utilityandgovernmentalservices_All', 'GeoportailFrance.orthos', 'GeoportailFrance.parcels', 'GeoportailFrance.plan', 'HikeBike.HikeBike', 'HikeBike.HillShading', 'JusticeMap.americanIndian', 'JusticeMap.asian', 'JusticeMap.black', 'JusticeMap.hispanic', 'JusticeMap.income', 'JusticeMap.multi', 'JusticeMap.nonWhite', 'JusticeMap.plurality', 'JusticeMap.white', 'MtbMap', 'NASAGIBS.ASTER_GDEM_Greyscale_Shaded_Relief', 'NASAGIBS.BlueMarble', 'NASAGIBS.BlueMarble3031', 'NASAGIBS.BlueMarble3413', 'NASAGIBS.ModisAquaBands721CR', 'NASAGIBS.ModisAquaTrueColorCR', 'NASAGIBS.ModisTerraAOD', 'NASAGIBS.ModisTerraBands367CR', 'NASAGIBS.ModisTerraBands721CR', 'NASAGIBS.ModisTerraChlorophyll', 'NASAGIBS.ModisTerraLSTDay', 'NASAGIBS.ModisTerraSnowCover', 'NASAGIBS.ModisTerraTrueColorCR', 'NASAGIBS.ViirsEarthAtNight2012', 'NASAGIBS.ViirsTrueColorCR', 'NLS', 'OPNVKarte', 'OneMapSG.Default', 'OneMapSG.Grey', 'OneMapSG.LandLot', 'OneMapSG.Night', 'OneMapSG.Original', 'OpenAIP', 'OpenFireMap', 'OpenRailwayMap', 'OpenSeaMap', 'OpenSnowMap.pistes', 'OpenStreetMap.BZH', 'OpenStreetMap.BlackAndWhite', 'OpenStreetMap.CH', 'OpenStreetMap.DE', 'OpenStreetMap.France', 'OpenStreetMap.HOT', 'OpenStreetMap.Mapnik', 'OpenTopoMap', 'SafeCast', 'Stadia.AlidadeSmooth', 'Stadia.AlidadeSmoothDark', 'Stadia.OSMBright', 'Stadia.Outdoors', 'Stamen.Terrain', 'Stamen.TerrainBackground', 'Stamen.TerrainLabels', 'Stamen.Toner', 'Stamen.TonerBackground', 'Stamen.TonerHybrid', 'Stamen.TonerLabels', 'Stamen.TonerLines', 'Stamen.TonerLite', 'Stamen.TopOSMFeatures', 'Stamen.TopOSMRelief', 'Stamen.Watercolor', 'Strava.All', 'Strava.Ride', 'Strava.Run', 'Strava.Water', 'Strava.Winter', 'SwissFederalGeoportal.JourneyThroughTime', 'SwissFederalGeoportal.NationalMapColor', 'SwissFederalGeoportal.NationalMapGrey', 'SwissFederalGeoportal.SWISSIMAGE', 'USGS.USImagery', 'USGS.USImageryTopo', 'USGS.USTopo', 'WaymarkedTrails.cycling', 'WaymarkedTrails.hiking', 'WaymarkedTrails.mtb', 'WaymarkedTrails.riding', 'WaymarkedTrails.skating', 'WaymarkedTrails.slopes', 'nlmaps.grijs', 'nlmaps.luchtfoto', 'nlmaps.pastel', 'nlmaps.standaard', 'nlmaps.water'])\n"
     ]
    }
   ],
   "source": [
    "basemaps = geemap.basemaps.keys()\n",
    "print(basemaps)"
   ]
  },
  {
   "cell_type": "code",
   "execution_count": null,
   "id": "4463c87d",
   "metadata": {},
   "outputs": [],
   "source": [
    "for basemap in basemaps:\n",
    "    print(basemap)"
   ]
  },
  {
   "cell_type": "code",
   "execution_count": null,
   "id": "dc8f1abf",
   "metadata": {},
   "outputs": [],
   "source": [
    "Map = geemap.Map()\n",
    "Map.split_map(\n",
    "    left_layer='NLCD 2016 CONUS Land Cover', right_layer='NLCD 2001 CONUS Land Cover'\n",
    ")\n",
    "Map"
   ]
  },
  {
   "cell_type": "code",
   "execution_count": null,
   "id": "a25dd5b3",
   "metadata": {},
   "outputs": [],
   "source": [
    "import ee"
   ]
  },
  {
   "cell_type": "code",
   "execution_count": null,
   "id": "721c7f81",
   "metadata": {},
   "outputs": [],
   "source": [
    "# https://developers.google.com/earth-engine/datasets/catalog/USGS_NLCD\n",
    "collection = ee.ImageCollection(\"USGS/NLCD\")\n",
    "print(collection.aggregate_array('system:id').getInfo())"
   ]
  },
  {
   "cell_type": "code",
   "execution_count": null,
   "id": "077ebebb",
   "metadata": {},
   "outputs": [],
   "source": [
    "nlcd_2001 = ee.Image('USGS/NLCD/NLCD2001').select('landcover')\n",
    "nlcd_2016 = ee.Image('USGS/NLCD/NLCD2016').select('landcover')\n",
    "\n",
    "left_layer = geemap.ee_tile_layer(nlcd_2001, {}, 'NLCD 2001')\n",
    "right_layer = geemap.ee_tile_layer(nlcd_2016, {}, 'NLCD 2016')\n",
    "\n",
    "Map = geemap.Map()\n",
    "Map.split_map(left_layer, right_layer)\n",
    "Map"
   ]
  },
  {
   "cell_type": "code",
   "execution_count": null,
   "id": "1201bcad",
   "metadata": {},
   "outputs": [],
   "source": []
  }
 ],
 "metadata": {
  "kernelspec": {
   "display_name": "Python 3 (ipykernel)",
   "language": "python",
   "name": "python3"
  },
  "language_info": {
   "codemirror_mode": {
    "name": "ipython",
    "version": 3
   },
   "file_extension": ".py",
   "mimetype": "text/x-python",
   "name": "python",
   "nbconvert_exporter": "python",
   "pygments_lexer": "ipython3",
   "version": "3.10.10"
  }
 },
 "nbformat": 4,
 "nbformat_minor": 5
}
