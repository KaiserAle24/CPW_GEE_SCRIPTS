{
 "cells": [
  {
   "cell_type": "markdown",
   "id": "1f51b501",
   "metadata": {},
   "source": [
    "<a href=\"https://githubtocolab.com/giswqs/geemap/blob/master/examples/notebooks/15_convert_js_to_py.ipynb\" target=\"_parent\"><img src=\"https://colab.research.google.com/assets/colab-badge.svg\" alt=\"Open in Colab\"/></a>\n",
    "\n",
    "Uncomment the following line to install [geemap](https://geemap.org) if needed."
   ]
  },
  {
   "cell_type": "code",
   "execution_count": null,
   "id": "ae8976bf",
   "metadata": {},
   "outputs": [],
   "source": [
    "# !pip install geemap"
   ]
  },
  {
   "cell_type": "code",
   "execution_count": null,
   "id": "00d6bab3",
   "metadata": {},
   "outputs": [],
   "source": [
    "import ee\n",
    "import geemap"
   ]
  },
  {
   "cell_type": "code",
   "execution_count": null,
   "id": "6f067ab1",
   "metadata": {},
   "outputs": [],
   "source": [
    "# geemap.show_youtube('nAzZjKKd4w0')"
   ]
  },
  {
   "cell_type": "markdown",
   "id": "97e85e07",
   "metadata": {},
   "source": [
    "You can simply copy and paste your GEE JavaScripts into a code block wrapped with trip quotes and pass it to a variable. \n",
    "\n",
    "For example, you can grap GEE JavaScripts from [GEE Documentation](https://developers.google.com/earth-engine/image_visualization)."
   ]
  },
  {
   "cell_type": "code",
   "execution_count": null,
   "id": "2be9fe17",
   "metadata": {},
   "outputs": [],
   "source": [
    "js_snippet = \"\"\"\n",
    "// Load an image.\n",
    "var image = ee.Image('LANDSAT/LC08/C01/T1_TOA/LC08_044034_20140318');\n",
    "\n",
    "// Define the visualization parameters.\n",
    "var vizParams = {\n",
    "  bands: ['B5', 'B4', 'B3'],\n",
    "  min: 0,\n",
    "  max: 0.5,\n",
    "  gamma: [0.95, 1.1, 1]\n",
    "};\n",
    "\n",
    "// Center the map and display the image.\n",
    "Map.setCenter(-122.1899, 37.5010, 10); // San Francisco Bay\n",
    "Map.addLayer(image, vizParams, 'false color composite');\n",
    "\n",
    "\"\"\""
   ]
  },
  {
   "cell_type": "code",
   "execution_count": null,
   "id": "888e9984",
   "metadata": {},
   "outputs": [],
   "source": [
    "geemap.js_snippet_to_py(\n",
    "    js_snippet, add_new_cell=True, import_ee=True, import_geemap=True, show_map=True\n",
    ")"
   ]
  },
  {
   "cell_type": "code",
   "execution_count": null,
   "id": "306dcba4",
   "metadata": {},
   "outputs": [],
   "source": [
    "import ee\n",
    "import geemap\n",
    "\n",
    "Map = geemap.Map()\n",
    "import geemap\n",
    "\n",
    "Map = geemap.Map()\n",
    "\n",
    "# Load an image.\n",
    "image = ee.Image('LANDSAT/LC08/C01/T1_TOA/LC08_044034_20140318')\n",
    "\n",
    "# Define the visualization parameters.\n",
    "vizParams = {\n",
    "  'bands': ['B5', 'B4', 'B3'],\n",
    "  'min': 0,\n",
    "  'max': 0.5,\n",
    "  'gamma': [0.95, 1.1, 1]\n",
    "}\n",
    "\n",
    "# Center the map and display the image.\n",
    "Map.setCenter(-122.1899, 37.5010, 10); # San Francisco Bay\n",
    "Map.addLayer(image, vizParams, 'False color composite')\n",
    "\n",
    "Map"
   ]
  },
  {
   "cell_type": "code",
   "execution_count": null,
   "id": "2e961b38",
   "metadata": {},
   "outputs": [],
   "source": [
    "js_snippet = \"\"\"\n",
    "\n",
    "// Load an image.\n",
    "var image = ee.Image('LANDSAT/LC08/C01/T1_TOA/LC08_044034_20140318');\n",
    "\n",
    "// Create an NDWI image, define visualization parameters and display.\n",
    "var ndwi = image.normalizedDifference(['B3', 'B5']);\n",
    "var ndwiViz = {min: 0.5, max: 1, palette: ['00FFFF', '0000FF']};\n",
    "Map.addLayer(ndwi, ndwiViz, 'NDWI', false);\n",
    "\n",
    "\"\"\""
   ]
  },
  {
   "cell_type": "code",
   "execution_count": null,
   "id": "79445808",
   "metadata": {},
   "outputs": [],
   "source": [
    "geemap.js_snippet_to_py(js_snippet)"
   ]
  },
  {
   "cell_type": "code",
   "execution_count": null,
   "id": "1cf37ac9",
   "metadata": {},
   "outputs": [],
   "source": [
    "import ee\n",
    "import geemap\n",
    "\n",
    "Map = geemap.Map(center=(38,-118), zoom=6)\n",
    "\n",
    "# Load an image.\n",
    "image = ee.Image('LANDSAT/LC08/C01/T1_TOA/LC08_044034_20140318')\n",
    "\n",
    "# Create an NDWI image, define visualization parameters and display.\n",
    "ndwi = image.normalizedDifference(['B3', 'B5'])\n",
    "ndwiViz = {'min': 0.5, 'max': 1, 'palette': ['00FFFF', '0000FF']}\n",
    "Map.addLayer(ndwi, ndwiViz, 'NDWI', True)\n",
    "\n",
    "Map"
   ]
  },
  {
   "cell_type": "code",
   "execution_count": null,
   "id": "177fbe4e",
   "metadata": {},
   "outputs": [],
   "source": [
    "js_snippet = \"\"\"\n",
    "\n",
    "// Load 2012 MODIS land cover and select the IGBP classification.\n",
    "var cover = ee.Image('MODIS/051/MCD12Q1/2012_01_01')\n",
    "  .select('Land_Cover_Type_1');\n",
    "\n",
    "// Define a palette for the 18 distinct land cover classes.\n",
    "var igbpPalette = [\n",
    "  'aec3d4', // water\n",
    "  '152106', '225129', '369b47', '30eb5b', '387242', // forest\n",
    "  '6a2325', 'c3aa69', 'b76031', 'd9903d', '91af40',  // shrub, grass\n",
    "  '111149', // wetlands\n",
    "  'cdb33b', // croplands\n",
    "  'cc0013', // urban\n",
    "  '33280d', // crop mosaic\n",
    "  'd7cdcc', // snow and ice\n",
    "  'f7e084', // barren\n",
    "  '6f6f6f'  // tundra\n",
    "];\n",
    "\n",
    "// Specify the min and max labels and the color palette matching the labels.\n",
    "Map.setCenter(-99.229, 40.413, 5);\n",
    "Map.addLayer(cover,\n",
    "             {min: 0, max: 17, palette: igbpPalette},\n",
    "             'IGBP classification');\n",
    "\n",
    "\"\"\""
   ]
  },
  {
   "cell_type": "code",
   "execution_count": null,
   "id": "5896d089",
   "metadata": {},
   "outputs": [],
   "source": [
    "geemap.js_snippet_to_py(js_snippet)"
   ]
  },
  {
   "cell_type": "code",
   "execution_count": null,
   "id": "cee73a1e",
   "metadata": {},
   "outputs": [
    {
     "name": "stderr",
     "output_type": "stream",
     "text": [
      "No such comm: c26402e0afa94db0820767d0fbecc61c\n",
      "No such comm: c26402e0afa94db0820767d0fbecc61c\n",
      "No such comm: c26402e0afa94db0820767d0fbecc61c\n",
      "No such comm: c26402e0afa94db0820767d0fbecc61c\n",
      "No such comm: c26402e0afa94db0820767d0fbecc61c\n",
      "No such comm: c26402e0afa94db0820767d0fbecc61c\n",
      "No such comm: c26402e0afa94db0820767d0fbecc61c\n",
      "No such comm: c26402e0afa94db0820767d0fbecc61c\n",
      "No such comm: c26402e0afa94db0820767d0fbecc61c\n",
      "No such comm: c26402e0afa94db0820767d0fbecc61c\n",
      "No such comm: c26402e0afa94db0820767d0fbecc61c\n",
      "No such comm: c26402e0afa94db0820767d0fbecc61c\n",
      "No such comm: c26402e0afa94db0820767d0fbecc61c\n",
      "No such comm: c26402e0afa94db0820767d0fbecc61c\n",
      "No such comm: c26402e0afa94db0820767d0fbecc61c\n",
      "No such comm: c26402e0afa94db0820767d0fbecc61c\n",
      "No such comm: c26402e0afa94db0820767d0fbecc61c\n",
      "No such comm: c26402e0afa94db0820767d0fbecc61c\n",
      "No such comm: c26402e0afa94db0820767d0fbecc61c\n",
      "No such comm: c26402e0afa94db0820767d0fbecc61c\n",
      "No such comm: c26402e0afa94db0820767d0fbecc61c\n",
      "No such comm: c26402e0afa94db0820767d0fbecc61c\n",
      "No such comm: c26402e0afa94db0820767d0fbecc61c\n",
      "No such comm: c26402e0afa94db0820767d0fbecc61c\n",
      "No such comm: c26402e0afa94db0820767d0fbecc61c\n",
      "No such comm: c26402e0afa94db0820767d0fbecc61c\n",
      "No such comm: c26402e0afa94db0820767d0fbecc61c\n",
      "No such comm: c26402e0afa94db0820767d0fbecc61c\n"
     ]
    }
   ],
   "source": [
    "import ee\n",
    "import geemap\n",
    "\n",
    "Map = geemap.Map()\n",
    "\n",
    "# Load 2012 MODIS land cover and select the IGBP classification.\n",
    "cover = ee.Image('MODIS/051/MCD12Q1/2012_01_01') \\\n",
    "  .select('Land_Cover_Type_1')\n",
    "\n",
    "# Define a palette for the 18 distinct land cover classes.\n",
    "igbpPalette = [\n",
    "  'aec3d4', # water\n",
    "  '152106', '225129', '369b47', '30eb5b', '387242', # forest\n",
    "  '6a2325', 'c3aa69', 'b76031', 'd9903d', '91af40',  # shrub, grass\n",
    "  '111149', # wetlands\n",
    "  'cdb33b', # croplands\n",
    "  'cc0013', # urban\n",
    "  '33280d', # crop mosaic\n",
    "  'd7cdcc', # snow and ice\n",
    "  'f7e084', # barren\n",
    "  '6f6f6f'  # tundra\n",
    "]\n",
    "\n",
    "# Specify the min and max labels and the color palette matching the labels.\n",
    "Map.setCenter(-99.229, 40.413, 5)\n",
    "Map.addLayer(cover,\n",
    "             {'min': 0, 'max': 17, 'palette': igbpPalette},\n",
    "             'IGBP classification')\n",
    "\n",
    "Map"
   ]
  },
  {
   "cell_type": "code",
   "execution_count": null,
   "id": "77231533",
   "metadata": {},
   "outputs": [],
   "source": []
  }
 ],
 "metadata": {
  "kernelspec": {
   "display_name": "Python 3 (ipykernel)",
   "language": "python",
   "name": "python3"
  },
  "language_info": {
   "codemirror_mode": {
    "name": "ipython",
    "version": 3
   },
   "file_extension": ".py",
   "mimetype": "text/x-python",
   "name": "python",
   "nbconvert_exporter": "python",
   "pygments_lexer": "ipython3",
   "version": "3.10.10"
  }
 },
 "nbformat": 4,
 "nbformat_minor": 5
}
