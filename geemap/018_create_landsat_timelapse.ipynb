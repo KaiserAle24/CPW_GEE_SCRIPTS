{
 "cells": [
  {
   "cell_type": "markdown",
   "id": "012ca3b7",
   "metadata": {},
   "source": [
    "<a href=\"https://githubtocolab.com/gee-community/geemap/blob/master/examples/notebooks/18_create_landsat_timelapse.ipynb\" target=\"_parent\"><img src=\"https://colab.research.google.com/assets/colab-badge.svg\" alt=\"Open in Colab\"/></a>\n",
    "\n",
    "Uncomment the following line to install [geemap](https://geemap.org) if needed."
   ]
  },
  {
   "cell_type": "code",
   "execution_count": null,
   "id": "671f09c7",
   "metadata": {},
   "outputs": [],
   "source": [
    "# !pip install geemap"
   ]
  },
  {
   "cell_type": "code",
   "execution_count": 1,
   "id": "d7f39073",
   "metadata": {},
   "outputs": [],
   "source": [
    "import geemap"
   ]
  },
  {
   "cell_type": "code",
   "execution_count": null,
   "id": "5c468732",
   "metadata": {},
   "outputs": [],
   "source": [
    "# geemap.show_youtube('OwjSJnGWKJs')"
   ]
  },
  {
   "cell_type": "markdown",
   "id": "2de30677",
   "metadata": {},
   "source": [
    "## Update the geemap package\n",
    "\n",
    "If you run into errors with this notebook, please uncomment the line below to update the [geemap](https://github.com/gee-community/geemap#installation) package to the latest version from GitHub. \n",
    "Restart the Kernel (Menu -> Kernel -> Restart) to take effect."
   ]
  },
  {
   "cell_type": "code",
   "execution_count": null,
   "id": "685b8286",
   "metadata": {},
   "outputs": [],
   "source": [
    "# geemap.update_package()"
   ]
  },
  {
   "cell_type": "markdown",
   "id": "afbae453",
   "metadata": {},
   "source": [
    "## Create an interactive map\n",
    "\n",
    "### Use the Drawing tool to draw a rectangle on the map"
   ]
  },
  {
   "cell_type": "code",
   "execution_count": 2,
   "id": "d01a49e4",
   "metadata": {},
   "outputs": [
    {
     "data": {
      "application/vnd.jupyter.widget-view+json": {
       "model_id": "f33bfcac686a458c9779f585d3408d65",
       "version_major": 2,
       "version_minor": 0
      },
      "text/plain": [
       "Map(center=[20, 0], controls=(WidgetControl(options=['position', 'transparent_bg'], widget=HBox(children=(Togg…"
      ]
     },
     "metadata": {},
     "output_type": "display_data"
    }
   ],
   "source": [
    "Map = geemap.Map()\n",
    "Map"
   ]
  },
  {
   "cell_type": "markdown",
   "id": "a13e96ed",
   "metadata": {},
   "source": [
    "## Generate a Landsat timelapse animation"
   ]
  },
  {
   "cell_type": "code",
   "execution_count": null,
   "id": "5ea462b1",
   "metadata": {},
   "outputs": [],
   "source": [
    "import os\n",
    "out_dir = os.path.join(os.path.expanduser(\"~\"), 'Downloads')\n",
    "if not os.path.exists(out_dir):\n",
    "       os.makedirs(out_dir)"
   ]
  },
  {
   "cell_type": "code",
   "execution_count": null,
   "id": "ea7e4304",
   "metadata": {},
   "outputs": [],
   "source": [
    "label = 'Urban Growth in Las Vegas'\n",
    "Map.add_landsat_ts_gif(\n",
    "    label=label,\n",
    "    start_year=1985,\n",
    "    bands=['Red', 'Green', 'Blue'],\n",
    "    font_color='white',\n",
    "    frames_per_second=5,\n",
    "    progress_bar_color='blue',\n",
    ")"
   ]
  },
  {
   "cell_type": "markdown",
   "id": "c591bb0a",
   "metadata": {},
   "source": [
    "## Create Landsat timeseries"
   ]
  },
  {
   "cell_type": "code",
   "execution_count": null,
   "id": "43d2a454",
   "metadata": {},
   "outputs": [],
   "source": [
    "import os\n",
    "import ee\n",
    "import geemap"
   ]
  },
  {
   "cell_type": "code",
   "execution_count": null,
   "id": "343dab73",
   "metadata": {},
   "outputs": [],
   "source": [
    "Map = geemap.Map()\n",
    "Map"
   ]
  },
  {
   "cell_type": "markdown",
   "id": "a45f2a2d",
   "metadata": {},
   "source": [
    "You and define an roi or draw a rectangle on the map"
   ]
  },
  {
   "cell_type": "code",
   "execution_count": null,
   "id": "4cdfd63d",
   "metadata": {},
   "outputs": [],
   "source": [
    "roi = ee.Geometry.Polygon(\n",
    "    [\n",
    "        [\n",
    "            [-115.471773, 35.892718],\n",
    "            [-115.471773, 36.409454],\n",
    "            [-114.271283, 36.409454],\n",
    "            [-114.271283, 35.892718],\n",
    "            [-115.471773, 35.892718],\n",
    "        ]\n",
    "    ],\n",
    "    None,\n",
    "    False,\n",
    ")"
   ]
  },
  {
   "cell_type": "code",
   "execution_count": null,
   "id": "e549e31f",
   "metadata": {},
   "outputs": [],
   "source": [
    "roi = Map.draw_last_feature"
   ]
  },
  {
   "cell_type": "code",
   "execution_count": null,
   "id": "f4def49c",
   "metadata": {},
   "outputs": [],
   "source": [
    "collection = geemap.landsat_timeseries(\n",
    "    roi=roi, start_year=1995, end_year=2020, start_date='01-01', end_date='12-31'\n",
    ")"
   ]
  },
  {
   "cell_type": "code",
   "execution_count": null,
   "id": "16fc0787",
   "metadata": {},
   "outputs": [],
   "source": [
    "print(collection.size().getInfo())"
   ]
  },
  {
   "cell_type": "code",
   "execution_count": null,
   "id": "4652c3fe",
   "metadata": {},
   "outputs": [],
   "source": [
    "first_image = collection.first()\n",
    "\n",
    "vis = {'bands': ['Red', 'Green', 'Blue'], 'min': 0.02, 'max': 0.4, 'gamma': [5, 5, 5]}\n",
    "\n",
    "Map.addLayer(first_image, vis, 'First image')"
   ]
  },
  {
   "cell_type": "markdown",
   "id": "23df47b0",
   "metadata": {},
   "source": [
    "## Download ImageCollection as a GIF"
   ]
  },
  {
   "cell_type": "code",
   "execution_count": null,
   "id": "1c4f247b",
   "metadata": {},
   "outputs": [],
   "source": [
    "# Define arguments for animation function parameters.\n",
    "video_args = {\n",
    "    'dimensions': 768,\n",
    "    'region': roi,\n",
    "    'framesPerSecond': 5,\n",
    "    'bands': ['SWIR1', 'NIR', 'Red'],\n",
    "    'min': 0.02,\n",
    "    'max': 0.4,\n",
    "    'gamma': [2, 2, 2],\n",
    "}"
   ]
  },
  {
   "cell_type": "code",
   "execution_count": null,
   "id": "d23daca5",
   "metadata": {},
   "outputs": [],
   "source": [
    "work_dir = os.path.join(os.path.expanduser(\"~\"), 'Downloads')\n",
    "if not os.path.exists(work_dir):\n",
    "    os.makedirs(work_dir)\n",
    "out_gif = os.path.join(work_dir, \"landsat_ts.gif\")"
   ]
  },
  {
   "cell_type": "code",
   "execution_count": null,
   "id": "41e87507",
   "metadata": {},
   "outputs": [],
   "source": [
    "geemap.download_ee_video(collection, video_args, out_gif)"
   ]
  },
  {
   "cell_type": "markdown",
   "id": "03366933",
   "metadata": {},
   "source": [
    "## Add animated text to GIF"
   ]
  },
  {
   "cell_type": "code",
   "execution_count": null,
   "id": "05b01a66",
   "metadata": {},
   "outputs": [],
   "source": [
    "geemap.show_image(out_gif)"
   ]
  },
  {
   "cell_type": "code",
   "execution_count": null,
   "id": "cf0b600f",
   "metadata": {},
   "outputs": [],
   "source": [
    "texted_gif = os.path.join(work_dir, \"landsat_ts_text.gif\")\n",
    "geemap.add_text_to_gif(\n",
    "    out_gif,\n",
    "    texted_gif,\n",
    "    xy=('3%', '5%'),\n",
    "    text_sequence=1990,\n",
    "    font_size=30,\n",
    "    font_color='#ffffff',\n",
    "    add_progress_bar=False,\n",
    "    duration=400,\n",
    ")"
   ]
  },
  {
   "cell_type": "code",
   "execution_count": null,
   "id": "c4f305c7",
   "metadata": {},
   "outputs": [],
   "source": [
    "label = 'Urban Growth in Cancún'\n",
    "geemap.add_text_to_gif(\n",
    "    texted_gif,\n",
    "    texted_gif,\n",
    "    xy=('2%', '88%'),\n",
    "    text_sequence=label,\n",
    "    font_size=30,\n",
    "    font_color='#ffffff',\n",
    "    progress_bar_color='cyan',\n",
    "     duration=400,\n",
    ")"
   ]
  },
  {
   "cell_type": "code",
   "execution_count": null,
   "id": "1c13c1a8",
   "metadata": {},
   "outputs": [],
   "source": [
    "geemap.show_image(texted_gif)"
   ]
  },
  {
   "cell_type": "code",
   "execution_count": null,
   "id": "fb1202f3",
   "metadata": {},
   "outputs": [],
   "source": []
  }
 ],
 "metadata": {
  "kernelspec": {
   "display_name": "Python 3 (ipykernel)",
   "language": "python",
   "name": "python3"
  },
  "language_info": {
   "codemirror_mode": {
    "name": "ipython",
    "version": 3
   },
   "file_extension": ".py",
   "mimetype": "text/x-python",
   "name": "python",
   "nbconvert_exporter": "python",
   "pygments_lexer": "ipython3",
   "version": "3.10.10"
  }
 },
 "nbformat": 4,
 "nbformat_minor": 5
}
